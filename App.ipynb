{
 "cells": [
  {
   "cell_type": "markdown",
   "metadata": {},
   "source": [
    "# ETHIC - Primavera 2024"
   ]
  },
  {
   "cell_type": "markdown",
   "metadata": {},
   "source": [
    "### Código"
   ]
  },
  {
   "cell_type": "code",
   "execution_count": 1,
   "metadata": {},
   "outputs": [],
   "source": [
    "import pandas as pd\n",
    "import os \n",
    "import warnings\n",
    "\n",
    "# Ignorar advertencias específicas de openpyxl\n",
    "warnings.filterwarnings(\"ignore\", category=UserWarning, module=\"openpyxl\")\n",
    "\n",
    "def process_data():\n",
    "    print(\"Casos disponibles:\")\n",
    "    print(\"1. Amanda\")\n",
    "    try:\n",
    "        caso = int(input(\"Ingresar número del caso :\"))\n",
    "    except ValueError:\n",
    "        print(\"Por favor ingrese un número válido.\")\n",
    "        return\n",
    "\n",
    "    casos_disponibles = {1: \"Amanda\"}\n",
    "    \n",
    "    # Chequeo de opciones\n",
    "    if caso not in casos_disponibles.keys():\n",
    "        print(\"Número de caso no válido\")\n",
    "        return\n",
    "    \n",
    "    # Seleccionar caso\n",
    "    caso_seleccionado = casos_disponibles[caso]\n",
    "    print(f\"Caso seleccionado: {caso_seleccionado}\")\n",
    "\n",
    "    # PATH a las carpetas de datos\n",
    "    ANSWERS_DATA_PATH = 'data/answers/Amanda'\n",
    "    FOLDERS_ANSWERS = os.listdir(ANSWERS_DATA_PATH)\n",
    "\n",
    "    # Dataframe para almacenar los datos\n",
    "    df_answers = pd.DataFrame(columns=['df', 'opt_left', 'Grup', 'Ind1', 'Ind2', 'Magnitud_Ind1_Grup', 'Magnitud_Grup_Ind2', \n",
    "                                    'Magnitud_Ind1_Ind2', 'Cambio_postura_Ind1_Grup', 'Cambio_postura_Grup_Ind2', \n",
    "                                    'Cambio_postura_Ind1_Ind2', 'Nivel_Ind1_Grup', 'Nivel_Grup_Ind2', 'Nivel_Ind1_Ind2', \n",
    "                                    'Direccion_Ind1_Grup', 'Direccion_Grup_Ind2', 'Direccion_Ind1_Ind2', \n",
    "                                    'Comentario - Ind1 - Diferencial 1', 'Comentario - Ind1 - Diferencial 2', \n",
    "                                    'Comentario - Grup - Diferencial 1', 'Comentario - Grup - Diferencial 2', \n",
    "                                    'Comentario - Ind2 - Diferencial 1', 'Comentario - Ind2 - Diferencial 2', 'agno', 'seccion'])\n",
    "\n",
    "    # Leer archivos excel del directorio y extraer agno y seccion\n",
    "    for file in FOLDERS_ANSWERS:\n",
    "        parts = file.split('_')  \n",
    "        if len(parts) >= 3: \n",
    "            agno = parts[1]  \n",
    "            seccion = parts[-1][:-5] \n",
    "            print(f\"Archivo: {file}, Año: {agno}, Sección: {seccion}\")\n",
    "        else:\n",
    "            print(f\"==== Error en extracción de año y sección para el archivo: {file} ====\")\n",
    "            agno = None\n",
    "            seccion = None\n",
    "        \n",
    "        # Extracción de columnas\n",
    "        df = pd.read_excel(f'{ANSWERS_DATA_PATH}/{file}', sheet_name='Datos')\n",
    "        df = df[['df', 'opt_left', 'Grup', 'Ind1', 'Ind2', 'Magnitud_Ind1_Grup', 'Magnitud_Grup_Ind2', \n",
    "                'Magnitud_Ind1_Ind2', 'Cambio_postura_Ind1_Grup', 'Cambio_postura_Grup_Ind2', \n",
    "                'Cambio_postura_Ind1_Ind2', 'Nivel_Ind1_Grup', 'Nivel_Grup_Ind2', 'Nivel_Ind1_Ind2', \n",
    "                'Direccion_Ind1_Grup', 'Direccion_Grup_Ind2', 'Direccion_Ind1_Ind2', \n",
    "                'Comentario - Ind1 - Diferencial 1', 'Comentario - Ind1 - Diferencial 2', \n",
    "                'Comentario - Grup - Diferencial 1', 'Comentario - Grup - Diferencial 2', \n",
    "                'Comentario - Ind2 - Diferencial 1', 'Comentario - Ind2 - Diferencial 2']]\n",
    "        \n",
    "        # Añadir columnas de agno y seccion\n",
    "        df['agno'] = agno\n",
    "        df['seccion'] = seccion\n",
    "        \n",
    "        df_answers = pd.concat([df_answers, df], ignore_index=True)\n",
    "    \n",
    "    # Sort, fillna y convertir columnas a string\n",
    "    df_answers.sort_values(by=['Grup', 'seccion', 'agno'], inplace=True)\n",
    "    df_answers.fillna('', inplace=True)\n",
    "\n",
    "    # Convertir las columnas especificadas a tipo string\n",
    "    columnas_a_convertir = [\n",
    "        'Comentario - Ind1 - Diferencial 1',\n",
    "        'Comentario - Grup - Diferencial 1',\n",
    "        'Comentario - Ind2 - Diferencial 1',\n",
    "        'Comentario - Ind1 - Diferencial 2',\n",
    "        'Comentario - Grup - Diferencial 2',\n",
    "        'Comentario - Ind2 - Diferencial 2'\n",
    "    ]\n",
    "\n",
    "    # Convertir las columnas a string\n",
    "    for columna in columnas_a_convertir:\n",
    "        df_answers[columna] = df_answers[columna].astype(str)\n",
    "\n",
    "    # Ruta para almacenar los datos procesados\n",
    "    folder_path = f'processed_data/{caso_seleccionado}'\n",
    "\n",
    "    # Verificar si la carpeta existe, y si no, crearla\n",
    "    if not os.path.exists(folder_path):\n",
    "        os.makedirs(folder_path)\n",
    "        print(f\"\\nCarpeta creada: {folder_path}\")\n",
    "    else:\n",
    "        print(f\"\\nCarpeta ya existe: {folder_path}\")\n",
    "\n",
    "    # Guardar datos como un nuevo csv en una ruta\n",
    "    df_answers.to_csv(f'processed_data/{caso_seleccionado}/answers_by_secc_{caso_seleccionado}.csv', index=False)\n",
    "    print(f\"Datos procesados guardados en: {folder_path}/answers_by_secc_{caso_seleccionado}.csv\")\n",
    "\n",
    "    return caso_seleccionado\n",
    "\n",
    "\n",
    "def read_data(caso):\n",
    "    # Leer datos procesados\n",
    "    df = pd.read_csv(f'processed_data/{caso}/answers_by_secc_{caso}.csv')\n",
    "    print(f\"\\nDatos leídos de: processed_data/{caso}/answers_by_secc_{caso}.csv\")\n",
    "\n",
    "    # diferencial 1 conserva las columnas: 'Grup', 'Comentario - Ind1 - Diferencial 1', 'Comentario - Grup - Diferencial 1', 'Comentario - Ind2 - Diferencial 1' para df=1\n",
    "    df1 = df[df['df'] == 1][['Grup', \n",
    "                                    'Comentario - Ind1 - Diferencial 1', \n",
    "                                    'Comentario - Grup - Diferencial 1', \n",
    "                                    'Comentario - Ind2 - Diferencial 1', 'agno', 'seccion']]\n",
    "\n",
    "    # diferencial 2 conserva las columnas: 'Grup', 'Comentario - Ind1 - Diferencial 2', 'Comentario - Grup - Diferencial 2', 'Comentario - Ind2 - Diferencial 2' para df=2\n",
    "    df2 = df[df['df'] == 2][['Grup', \n",
    "                                    'Comentario - Ind1 - Diferencial 2', \n",
    "                                    'Comentario - Grup - Diferencial 2', \n",
    "                                    'Comentario - Ind2 - Diferencial 2', 'agno', 'seccion']]\n",
    "\n",
    "    # Distinguir por diferenciales\n",
    "\n",
    "    # Convertir las columnas de los dataframes a string\n",
    "    col_df1 = [\n",
    "        'Comentario - Ind1 - Diferencial 1',\n",
    "        'Comentario - Grup - Diferencial 1',\n",
    "        'Comentario - Ind2 - Diferencial 1',\n",
    "    ]\n",
    "\n",
    "    col_df2 = [\n",
    "        'Comentario - Ind1 - Diferencial 2',\n",
    "        'Comentario - Grup - Diferencial 2',\n",
    "        'Comentario - Ind2 - Diferencial 2',\n",
    "    ]\n",
    "\n",
    "    # Convertir las columnas a string\n",
    "    for col in range (len(col_df1)):\n",
    "        df1[col_df1[col]] = df1[col_df1[col]].astype(str)\n",
    "        df2[col_df2[col]] = df2[col_df2[col]].astype(str)\n",
    "\n",
    "    return df1, df2"
   ]
  },
  {
   "cell_type": "markdown",
   "metadata": {},
   "source": [
    "##  Selección de caso\n",
    "\n",
    "* 1) Caso Amanda"
   ]
  },
  {
   "cell_type": "code",
   "execution_count": 2,
   "metadata": {},
   "outputs": [
    {
     "name": "stdout",
     "output_type": "stream",
     "text": [
      "Casos disponibles:\n",
      "1. Amanda\n"
     ]
    },
    {
     "name": "stdout",
     "output_type": "stream",
     "text": [
      "Caso seleccionado: Amanda\n",
      "Archivo: Procesamient_2023_CD1201_2.xlsx, Año: 2023, Sección: 2\n",
      "Archivo: Procesamient_2023_CD1201_3.xlsx, Año: 2023, Sección: 3\n",
      "Archivo: Procesamient_2023_CD1201_4.xlsx, Año: 2023, Sección: 4\n",
      "Archivo: Procesamient_2023_CD1201_5.xlsx, Año: 2023, Sección: 5\n",
      "Archivo: Procesamient_2023_CD1201_7.xlsx, Año: 2023, Sección: 7\n",
      "Archivo: Procesamient_2023_CD1201_8.xlsx, Año: 2023, Sección: 8\n",
      "Archivo: Procesamient_2023_CD1201_9.xlsx, Año: 2023, Sección: 9\n",
      "Archivo: Procesamient_2024_CD1100_2.xlsx, Año: 2024, Sección: 2\n",
      "Archivo: Procesamient_2024_CD1100_4.xlsx, Año: 2024, Sección: 4\n",
      "Archivo: Procesamient_2024_CD1100_6.xlsx, Año: 2024, Sección: 6\n",
      "Archivo: Procesamient_2024_CD1100_7.xlsx, Año: 2024, Sección: 7\n",
      "Archivo: Procesamient_2024_CD1100_8.xlsx, Año: 2024, Sección: 8\n",
      "\n",
      "Carpeta ya existe: processed_data/Amanda\n",
      "Datos procesados guardados en: processed_data/Amanda/answers_by_secc_Amanda.csv\n",
      "\n",
      "Datos leídos de: processed_data/Amanda/answers_by_secc_Amanda.csv\n"
     ]
    }
   ],
   "source": [
    "from utils.extract_data import process_data\n",
    "from utils.extract_data import read_data\n",
    "\n",
    "caso = process_data()\n",
    "df1, df2 = read_data(caso)"
   ]
  },
  {
   "cell_type": "code",
   "execution_count": 2,
   "metadata": {},
   "outputs": [],
   "source": [
    "df1 = df1.head(10)\n",
    "df2 = df2.head(10)"
   ]
  },
  {
   "cell_type": "markdown",
   "metadata": {},
   "source": [
    "## Análisis Gramatical"
   ]
  },
  {
   "cell_type": "markdown",
   "metadata": {},
   "source": [
    "### Código"
   ]
  },
  {
   "cell_type": "code",
   "execution_count": 3,
   "metadata": {},
   "outputs": [],
   "source": [
    "import spacy\n",
    "import pandas as pd\n",
    "import numpy as np\n",
    "import matplotlib.pyplot as plt\n",
    "\n",
    "def analizar_dependencias(texto):\n",
    "    nlp = spacy.load(\"es_core_news_md\")\n",
    "    doc = nlp(texto)\n",
    "    \n",
    "    total_subordinadas = 0\n",
    "    for sentencia in doc.sents:\n",
    "        oraciones_subordinadas = [token for token in sentencia if token.dep_ in (\"acl\", \"advcl\", \"csubj\", \"ccomp\", \"xcomp\")]\n",
    "        total_subordinadas += len(oraciones_subordinadas)\n",
    "    \n",
    "    return total_subordinadas\n",
    "\n",
    "def aplicar_dependencias_grupal(df, dif, caso, col_ind1, col_grup, col_ind2):\n",
    "    # Aplicar analizar_dependencias directamente a col_ind1 y col_ind2 (en todas las filas)\n",
    "    df['Ind1_d'] = df[col_ind1].apply(lambda x: analizar_dependencias(str(x)))\n",
    "    df['Ind2_d'] = df[col_ind2].apply(lambda x: analizar_dependencias(str(x)))\n",
    "    \n",
    "    grouped = df[['Grup', 'agno', 'seccion', col_grup]].drop_duplicates(subset=['Grup', 'agno', 'seccion'])\n",
    "    grouped['Grup_d'] = grouped[col_grup].apply(lambda x: analizar_dependencias(str(x)))\n",
    "    df = df.merge(grouped[['Grup', 'agno', 'seccion', 'Grup_d']], \n",
    "                  on=['Grup', 'agno', 'seccion'], \n",
    "                  how='left')\n",
    "    \n",
    "    # Guardar datos\n",
    "    df.to_csv(f\"processed_data/{caso}/Tree_dependency_df{dif}.csv\", index=False)\n",
    "\n",
    "    return df\n",
    "\n",
    "def graficar_boxplot(df1, df2, caso):\n",
    "    path = f\"resultados/{caso}\"\n",
    "\n",
    "    plt.style.use('fivethirtyeight')\n",
    "    plt.figure(figsize=(10, 5))\n",
    "    plt.boxplot([\n",
    "        df1['Ind1_d'], df1['Grup_d'], df1['Ind2_d'],\n",
    "        df2['Ind1_d'], df2['Grup_d'], df2['Ind2_d']\n",
    "    ], boxprops=dict(color='black'),\n",
    "       whiskerprops=dict(color='darkblue'),\n",
    "       medianprops=dict(color='red'))\n",
    "    \n",
    "    plt.xticks([1, 2, 3, 4, 5, 6], ['Ind1_d1', 'Grup_d1', 'Ind2_d1', 'Ind1_d2', 'Grup_d2', 'Ind2_d2'])\n",
    "    plt.ylabel('Dependencias')\n",
    "    plt.title('Boxplot de las dependencias encontradas', fontsize=14, fontweight='bold')\n",
    "    plt.grid(axis='y', linestyle='--', alpha=0.7)\n",
    "\n",
    "    plt.savefig(f\"{path}/Analisis_Gramatical_boxplot_dependencias.png\", bbox_inches='tight')\n",
    "    plt.close()\n",
    "\n",
    "def crear_tabla_dependencias(df1, df2, caso):\n",
    "    # Crea una tabla con los conteos de dependencias encontradas.\n",
    "    path = f\"resultados/{caso}\"\n",
    "\n",
    "    diferenciales = []\n",
    "    for i, df in enumerate([df1, df2], start=1):\n",
    "        ind1_count = (df['Ind1_d'] < df['Ind2_d']).sum()\n",
    "        grup_count = (df['Grup_d'] < df['Ind2_d']).sum()\n",
    "        ind2_count = (df['Ind2_d'] < df['Ind1_d']).sum()\n",
    "        \n",
    "        diferenciales.append([f'Diferencial {i}', 'Ind1 < Ind2', ind1_count])\n",
    "        diferenciales.append([f'Diferencial {i}', 'Grup < Ind2', grup_count])\n",
    "        diferenciales.append([f'Diferencial {i}', 'Ind2 < Ind1', ind2_count])\n",
    "\n",
    "    df_table = pd.DataFrame(diferenciales, columns=['Diferencial', 'Comparación', 'Conteo'])\n",
    "    \n",
    "    fig, ax = plt.subplots(figsize=(6, 3))\n",
    "    ax.axis('tight')\n",
    "    ax.axis('off')\n",
    "\n",
    "    table = ax.table(cellText=df_table.values, colLabels=df_table.columns, cellLoc='center', loc='center')\n",
    "    table.auto_set_font_size(False)\n",
    "    table.set_fontsize(12)\n",
    "    table.scale(1.2, 1.2)\n",
    "\n",
    "    plt.savefig(f\"{path}/Analisis_Gramatical_Tabla_Dependencias.png\", bbox_inches='tight')\n",
    "    plt.close()\n",
    "\n",
    "def graficar_conteos(df1, df2, caso):\n",
    "    # Genera gráficos de los conteos de dependencias encontradas.\n",
    "    path = f\"resultados/{caso}\"\n",
    "\n",
    "    diferencial_1_counts = [\n",
    "        (df1['Ind1_d'] < df1['Ind2_d']).sum(),\n",
    "        (df1['Grup_d'] < df1['Ind2_d']).sum(),\n",
    "        (df1['Ind2_d'] < df1['Ind1_d']).sum()\n",
    "    ]\n",
    "\n",
    "    diferencial_2_counts = [\n",
    "        (df2['Ind1_d'] < df2['Ind2_d']).sum(),\n",
    "        (df2['Grup_d'] < df2['Ind2_d']).sum(),\n",
    "        (df2['Ind2_d'] < df2['Ind1_d']).sum()\n",
    "    ]\n",
    "\n",
    "    bar_width = 0.35\n",
    "    x = np.arange(len(diferencial_1_counts))\n",
    "\n",
    "    plt.style.use('fivethirtyeight')\n",
    "    plt.figure(figsize=(10, 5))\n",
    "    bars1 = plt.bar(x - bar_width/2, diferencial_1_counts, width=bar_width, label='Diferencial 1', color='lightcoral', edgecolor='black')\n",
    "    bars2 = plt.bar(x + bar_width/2, diferencial_2_counts, width=bar_width, label='Diferencial 2', color='lightblue', edgecolor='black')\n",
    "\n",
    "    plt.ylabel('Conteo', fontsize=12)\n",
    "    plt.title('Conteo de dependencias encontradas', fontsize=14, fontweight='bold')\n",
    "    plt.xticks(x, ['Ind1<Ind2', 'Grup<Ind2', 'Ind2<Ind1'], fontsize=12)\n",
    "    plt.legend(fontsize=12)\n",
    "    plt.grid(axis='y', linestyle='--', alpha=0.7)\n",
    "\n",
    "    for bar in bars1 + bars2:\n",
    "        yval = bar.get_height()\n",
    "        plt.text(bar.get_x() + bar.get_width()/2, yval, int(yval), ha='center', va='bottom', fontsize=10)\n",
    "\n",
    "    plt.savefig(f\"{path}/Analisis_Gramatical_conteo_dependencias.png\", bbox_inches='tight')\n",
    "    plt.close()\n",
    "\n",
    "# Función principal que ejecuta el análisis\n",
    "def ejecutar_analisis(df_diferencial_1, df_diferencial_2, caso):\n",
    "    df_diferencial_1 = aplicar_dependencias_grupal(df_diferencial_1, 1, caso, \n",
    "                                                   'Comentario - Ind1 - Diferencial 1', \n",
    "                                                   'Comentario - Grup - Diferencial 1', \n",
    "                                                   'Comentario - Ind2 - Diferencial 1')\n",
    "    \n",
    "    df_diferencial_2 = aplicar_dependencias_grupal(df_diferencial_2, 2, caso,\n",
    "                                                   'Comentario - Ind1 - Diferencial 2', \n",
    "                                                   'Comentario - Grup - Diferencial 2', \n",
    "                                                   'Comentario - Ind2 - Diferencial 2')\n",
    "    return \n",
    "    \n",
    "def tree_dependency_graphs(caso):\n",
    "    # Leer los dato\n",
    "    df_diferencial_1 = pd.read_csv(f\"processed_data/{caso}/Tree_dependency_df1.csv\")\n",
    "    df_diferencial_2 = pd.read_csv(f\"processed_data/{caso}/Tree_dependency_df2.csv\")\n",
    "\n",
    "    # Generar gráficos\n",
    "    graficar_boxplot(df_diferencial_1, df_diferencial_2, caso)\n",
    "    crear_tabla_dependencias(df_diferencial_1, df_diferencial_2, caso)\n",
    "    graficar_conteos(df_diferencial_1, df_diferencial_2, caso)\n",
    "    return"
   ]
  },
  {
   "cell_type": "markdown",
   "metadata": {},
   "source": [
    "### Análisis"
   ]
  },
  {
   "cell_type": "markdown",
   "metadata": {},
   "source": [
    "Se debe ejecutar la celda de ejecutar análisis solo si se desea realizar uno nuevo. De lo contrario basta con ejecutar la celda de graficar."
   ]
  },
  {
   "cell_type": "code",
   "execution_count": 4,
   "metadata": {},
   "outputs": [
    {
     "ename": "",
     "evalue": "",
     "output_type": "error",
     "traceback": [
      "\u001b[1;31mThe Kernel crashed while executing code in the current cell or a previous cell. \n",
      "\u001b[1;31mPlease review the code in the cell(s) to identify a possible cause of the failure. \n",
      "\u001b[1;31mClick <a href='https://aka.ms/vscodeJupyterKernelCrash'>here</a> for more info. \n",
      "\u001b[1;31mView Jupyter <a href='command:jupyter.viewOutput'>log</a> for further details."
     ]
    }
   ],
   "source": [
    "#from utils.dependency_tree import ejecutar_analisis\n",
    "ejecutar_analisis(df1, df2, caso)"
   ]
  },
  {
   "cell_type": "code",
   "execution_count": null,
   "metadata": {},
   "outputs": [],
   "source": [
    "%%capture\n",
    "#from utils.dependency_tree import tree_dependency_graphs\n",
    "tree_dependency_graphs(caso)"
   ]
  },
  {
   "cell_type": "markdown",
   "metadata": {},
   "source": [
    "## Analisis de Topicos BERT"
   ]
  },
  {
   "cell_type": "markdown",
   "metadata": {},
   "source": [
    "### Entrenamiento Modelo Bert Topic\n",
    "\n",
    "Solo es necesario ejecutarlo si se desea entrenar nuevamente al modelo con más datos."
   ]
  },
  {
   "cell_type": "code",
   "execution_count": 2,
   "metadata": {},
   "outputs": [
    {
     "ename": "",
     "evalue": "",
     "output_type": "error",
     "traceback": [
      "\u001b[1;31mThe Kernel crashed while executing code in the current cell or a previous cell. \n",
      "\u001b[1;31mPlease review the code in the cell(s) to identify a possible cause of the failure. \n",
      "\u001b[1;31mClick <a href='https://aka.ms/vscodeJupyterKernelCrash'>here</a> for more info. \n",
      "\u001b[1;31mView Jupyter <a href='command:jupyter.viewOutput'>log</a> for further details."
     ]
    }
   ],
   "source": [
    "from utils.bertopic_model import *\n",
    "\n",
    "# Crear tokenizer\n",
    "tokenizer = StemmerTokenizer(stem=False, lemmatize=True)\n",
    "\n",
    "# Cargar y preprocesar comentarios\n",
    "comentarios_tokenizados = cargar_y_preprocesar_comentarios(df1, df2, tokenizer)\n",
    "\n",
    "# Entrenar modelo BERTopic\n",
    "entrenar_modelo_bertopic(comentarios_tokenizados)"
   ]
  },
  {
   "cell_type": "markdown",
   "metadata": {},
   "source": [
    "### Tópicos BERT\n",
    "\n",
    "Obtener los tópicos encontrados por el modelo BERT. Esta celda se debe ejecutar solo si se desea realizar un nuevo análisis. <br>\n",
    "https://huggingface.co/dccuchile/patana-chilean-spanish-bert"
   ]
  },
  {
   "cell_type": "code",
   "execution_count": 8,
   "metadata": {},
   "outputs": [],
   "source": [
    "from utils.bertopic_model import *\n",
    "# Cargar el modelo BERTopic desde el archivo guardado\n",
    "BERT_model = BERTopic.load(\"models/BertTopic_model\")"
   ]
  },
  {
   "cell_type": "code",
   "execution_count": 9,
   "metadata": {},
   "outputs": [],
   "source": [
    "# Prediccion de topicos (ejecutar si se desea realizar uha nueva)\n",
    "predict_topics(BERT_model, df1, df2, caso)"
   ]
  },
  {
   "cell_type": "code",
   "execution_count": 10,
   "metadata": {},
   "outputs": [
    {
     "name": "stdout",
     "output_type": "stream",
     "text": [
      "Iniciando proceso para el diferencial 1...\n",
      "Realizando conteo de tópicos...\n",
      "Generando gráfico de Frencuencia de Tópicos por Etapa...\n",
      "Gráfico generado exitosamente.\n",
      "Generando gráficos de tópicos más y menos comunes...\n",
      "Gráficos generados exitosamente.\n",
      "Iniciando proceso para el diferencial 2...\n",
      "Realizando conteo de tópicos...\n",
      "Generando gráfico de Frencuencia de Tópicos por Etapa...\n",
      "Gráfico generado exitosamente.\n",
      "Generando gráficos de tópicos más y menos comunes...\n",
      "Gráficos generados exitosamente.\n"
     ]
    }
   ],
   "source": [
    "topic_counts_resultados = contar_topicos(caso)\n",
    "graficar_topicos_agrupados(topic_counts_resultados, 1, BERT_model, caso) \n",
    "graficar_topicos_agrupados(topic_counts_resultados, 2, BERT_model, caso)"
   ]
  },
  {
   "cell_type": "markdown",
   "metadata": {},
   "source": [
    "## Análisis de Tópics Éticos\n",
    "\n",
    "La celda para obtener los tópicos éticos solo debe ejecutarse si se desea realizar una nueva predicción."
   ]
  },
  {
   "cell_type": "code",
   "execution_count": null,
   "metadata": {},
   "outputs": [],
   "source": [
    "from utils.ethic_topics_model import predict_ethic_topic\n",
    "predict_ethic_topic(df1, df2, caso)"
   ]
  },
  {
   "cell_type": "markdown",
   "metadata": {},
   "source": [
    "Se obtienen gráficos de los tópicos éticos encontrados, y aquellos que son más y menos comunes. "
   ]
  },
  {
   "cell_type": "code",
   "execution_count": null,
   "metadata": {},
   "outputs": [],
   "source": [
    "%%capture\n",
    "from utils.ethic_topics_model import procesar_y_graficar_topicos\n",
    "procesar_y_graficar_topicos(caso, 1)\n",
    "procesar_y_graficar_topicos(caso, 2)"
   ]
  },
  {
   "cell_type": "markdown",
   "metadata": {},
   "source": [
    "## Tópicos distintos entre etapas\n",
    "\n",
    "Análisis de cuantos topicos distintos se encuentran en las respuestas, diferenciando por etapas y por tópicos BERT y ETHIC."
   ]
  },
  {
   "cell_type": "code",
   "execution_count": null,
   "metadata": {},
   "outputs": [],
   "source": [
    "from utils.ethic_words import distinct_topics\n",
    "distinct_topics(caso)"
   ]
  },
  {
   "cell_type": "markdown",
   "metadata": {},
   "source": [
    "## Comparación de tópicos éticos entre etapas"
   ]
  },
  {
   "cell_type": "code",
   "execution_count": null,
   "metadata": {},
   "outputs": [],
   "source": [
    "from utils.ethic_topics_model import ethic_topics_between_stages\n",
    "ethic_topics_between_stages(caso)"
   ]
  },
  {
   "cell_type": "code",
   "execution_count": null,
   "metadata": {},
   "outputs": [],
   "source": [
    "from utils.ethic_topics_model import ethic_topics_dependency_between_stages\n",
    "ethic_topics_dependency_between_stages(caso)"
   ]
  },
  {
   "cell_type": "markdown",
   "metadata": {},
   "source": [
    "## Nubes de palabras"
   ]
  },
  {
   "cell_type": "code",
   "execution_count": 2,
   "metadata": {},
   "outputs": [],
   "source": [
    "%%capture\n",
    "from utils.bertopic_model import *\n",
    "from utils.wordclouds import *\n",
    "\n",
    "stop_words_custom\n",
    "tokenizer = StemmerTokenizer(stem=True, lemmatize=True)\n",
    "crear_nubes_palabras(caso, df1, df2, tokenizer=tokenizer, stop_words_custom=stop_words_custom)"
   ]
  },
  {
   "cell_type": "markdown",
   "metadata": {},
   "source": [
    "## Frecuencia de aparación de palabras éticas"
   ]
  },
  {
   "cell_type": "code",
   "execution_count": 3,
   "metadata": {},
   "outputs": [
    {
     "data": {
      "image/png": "[encoded data removed]",
      "text/plain": [
       "<Figure size 1200x600 with 1 Axes>"
      ]
     },
     "metadata": {},
     "output_type": "display_data"
    },
    {
     "data": {
      "text/plain": [
       "Counter({'enfermed': 32,\n",
       "         'consider': 19,\n",
       "         'deb': 15,\n",
       "         'vid': 14,\n",
       "         'riesg': 9,\n",
       "         'inform': 9,\n",
       "         'opinion': 3,\n",
       "         'influenci': 3,\n",
       "         'control': 3,\n",
       "         'legal': 3,\n",
       "         'acuerd': 3,\n",
       "         'ayud': 3,\n",
       "         'evalu': 2,\n",
       "         'etic': 2,\n",
       "         'eleccion': 2,\n",
       "         'segur': 2,\n",
       "         'ley': 2,\n",
       "         'dedic': 2,\n",
       "         'prevencion': 2,\n",
       "         'principi': 1,\n",
       "         'atencion': 1})"
      ]
     },
     "execution_count": 3,
     "metadata": {},
     "output_type": "execute_result"
    }
   ],
   "source": [
    "from utils.bertopic_model import *\n",
    "from utils.ethic_words import *\n",
    "\n",
    "stop_words_custom\n",
    "tokenizer = StemmerTokenizer(stem=True, lemmatize=True)\n",
    "contar_palabras_etica(df1, df2, tokenizer=tokenizer)"
   ]
  },
  {
   "cell_type": "markdown",
   "metadata": {},
   "source": [
    "## Conectores más usados\n",
    "\n",
    "https://huggingface.co/PlanTL-GOB-ES/roberta-large-bne-capitel-pos"
   ]
  },
  {
   "cell_type": "code",
   "execution_count": 4,
   "metadata": {},
   "outputs": [],
   "source": [
    "%%capture\n",
    "from utils.grammar_connectors import extract_grammar_connectors\n",
    "\n",
    "extract_grammar_connectors(df1, df2, caso)"
   ]
  },
  {
   "cell_type": "markdown",
   "metadata": {},
   "source": [
    "## Justificaciones post conectores"
   ]
  },
  {
   "cell_type": "code",
   "execution_count": 5,
   "metadata": {},
   "outputs": [
    {
     "name": "stdout",
     "output_type": "stream",
     "text": [
      "Palabras clave después de conectores guardadas en resultados/Amanda/Palabras_Clave_Despues_Conectores.csv\n"
     ]
    },
    {
     "data": {
      "text/html": [
       "<div>\n",
       "<style scoped>\n",
       "    .dataframe tbody tr th:only-of-type {\n",
       "        vertical-align: middle;\n",
       "    }\n",
       "\n",
       "    .dataframe tbody tr th {\n",
       "        vertical-align: top;\n",
       "    }\n",
       "\n",
       "    .dataframe thead th {\n",
       "        text-align: right;\n",
       "    }\n",
       "</style>\n",
       "<table border=\"1\" class=\"dataframe\">\n",
       "  <thead>\n",
       "    <tr style=\"text-align: right;\">\n",
       "      <th></th>\n",
       "      <th>Palabra Clave</th>\n",
       "      <th>Importancia</th>\n",
       "    </tr>\n",
       "  </thead>\n",
       "  <tbody>\n",
       "    <tr>\n",
       "      <th>0</th>\n",
       "      <td>población</td>\n",
       "      <td>1688.580183</td>\n",
       "    </tr>\n",
       "    <tr>\n",
       "      <th>1</th>\n",
       "      <td>personas</td>\n",
       "      <td>1453.939553</td>\n",
       "    </tr>\n",
       "    <tr>\n",
       "      <th>2</th>\n",
       "      <td>enfermedad</td>\n",
       "      <td>1422.111717</td>\n",
       "    </tr>\n",
       "    <tr>\n",
       "      <th>3</th>\n",
       "      <td>error</td>\n",
       "      <td>1362.205344</td>\n",
       "    </tr>\n",
       "    <tr>\n",
       "      <th>4</th>\n",
       "      <td>exactitud</td>\n",
       "      <td>1177.672339</td>\n",
       "    </tr>\n",
       "    <tr>\n",
       "      <th>5</th>\n",
       "      <td>explicabilidad</td>\n",
       "      <td>947.552606</td>\n",
       "    </tr>\n",
       "    <tr>\n",
       "      <th>6</th>\n",
       "      <td>tuberculosis</td>\n",
       "      <td>794.257079</td>\n",
       "    </tr>\n",
       "    <tr>\n",
       "      <th>7</th>\n",
       "      <td>menor</td>\n",
       "      <td>731.171417</td>\n",
       "    </tr>\n",
       "    <tr>\n",
       "      <th>8</th>\n",
       "      <td>detectar</td>\n",
       "      <td>655.696059</td>\n",
       "    </tr>\n",
       "    <tr>\n",
       "      <th>9</th>\n",
       "      <td>promedio</td>\n",
       "      <td>639.595199</td>\n",
       "    </tr>\n",
       "    <tr>\n",
       "      <th>10</th>\n",
       "      <td>importante</td>\n",
       "      <td>573.844140</td>\n",
       "    </tr>\n",
       "    <tr>\n",
       "      <th>11</th>\n",
       "      <td>paciente</td>\n",
       "      <td>549.623531</td>\n",
       "    </tr>\n",
       "    <tr>\n",
       "      <th>12</th>\n",
       "      <td>grupo</td>\n",
       "      <td>547.141379</td>\n",
       "    </tr>\n",
       "    <tr>\n",
       "      <th>13</th>\n",
       "      <td>migrantes</td>\n",
       "      <td>512.653628</td>\n",
       "    </tr>\n",
       "    <tr>\n",
       "      <th>14</th>\n",
       "      <td>migrante</td>\n",
       "      <td>506.739083</td>\n",
       "    </tr>\n",
       "    <tr>\n",
       "      <th>15</th>\n",
       "      <td>gente</td>\n",
       "      <td>501.171471</td>\n",
       "    </tr>\n",
       "    <tr>\n",
       "      <th>16</th>\n",
       "      <td>caso</td>\n",
       "      <td>498.985439</td>\n",
       "    </tr>\n",
       "    <tr>\n",
       "      <th>17</th>\n",
       "      <td>pacientes</td>\n",
       "      <td>495.891241</td>\n",
       "    </tr>\n",
       "    <tr>\n",
       "      <th>18</th>\n",
       "      <td>detección</td>\n",
       "      <td>417.340146</td>\n",
       "    </tr>\n",
       "    <tr>\n",
       "      <th>19</th>\n",
       "      <td>cantidad</td>\n",
       "      <td>396.707461</td>\n",
       "    </tr>\n",
       "  </tbody>\n",
       "</table>\n",
       "</div>"
      ],
      "text/plain": [
       "     Palabra Clave  Importancia\n",
       "0        población  1688.580183\n",
       "1         personas  1453.939553\n",
       "2       enfermedad  1422.111717\n",
       "3            error  1362.205344\n",
       "4        exactitud  1177.672339\n",
       "5   explicabilidad   947.552606\n",
       "6     tuberculosis   794.257079\n",
       "7            menor   731.171417\n",
       "8         detectar   655.696059\n",
       "9         promedio   639.595199\n",
       "10      importante   573.844140\n",
       "11        paciente   549.623531\n",
       "12           grupo   547.141379\n",
       "13       migrantes   512.653628\n",
       "14        migrante   506.739083\n",
       "15           gente   501.171471\n",
       "16            caso   498.985439\n",
       "17       pacientes   495.891241\n",
       "18       detección   417.340146\n",
       "19        cantidad   396.707461"
      ]
     },
     "execution_count": 5,
     "metadata": {},
     "output_type": "execute_result"
    }
   ],
   "source": [
    "from utils.grammar_connectors import extract_keywords_after_connectors\n",
    "extract_keywords_after_connectors(df1, df2, caso)"
   ]
  }
 ],
 "metadata": {
  "kernelspec": {
   "display_name": "ethic_unit_env",
   "language": "python",
   "name": "python3"
  },
  "language_info": {
   "codemirror_mode": {
    "name": "ipython",
    "version": 3
   },
   "file_extension": ".py",
   "mimetype": "text/x-python",
   "name": "python",
   "nbconvert_exporter": "python",
   "pygments_lexer": "ipython3",
   "version": "3.11.9"
  }
 },
 "nbformat": 4,
 "nbformat_minor": 2
}
