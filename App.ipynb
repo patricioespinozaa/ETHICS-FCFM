{
 "cells": [
  {
   "cell_type": "markdown",
   "metadata": {},
   "source": [
    "# ETHIC - Primavera 2024"
   ]
  },
  {
   "cell_type": "markdown",
   "metadata": {},
   "source": [
    "##  Selección de caso\n",
    "\n",
    "* 1) Caso Amanda"
   ]
  },
  {
   "cell_type": "code",
   "execution_count": 1,
   "metadata": {},
   "outputs": [
    {
     "name": "stdout",
     "output_type": "stream",
     "text": [
      "Casos disponibles:\n",
      "1. Amanda\n",
      "Caso seleccionado: Amanda\n",
      "Archivo: Procesamient_2023_CD1201_2.xlsx, Año: 2023, Sección: 2\n",
      "Archivo: Procesamient_2023_CD1201_3.xlsx, Año: 2023, Sección: 3\n",
      "Archivo: Procesamient_2023_CD1201_4.xlsx, Año: 2023, Sección: 4\n",
      "Archivo: Procesamient_2023_CD1201_5.xlsx, Año: 2023, Sección: 5\n",
      "Archivo: Procesamient_2023_CD1201_7.xlsx, Año: 2023, Sección: 7\n",
      "Archivo: Procesamient_2023_CD1201_8.xlsx, Año: 2023, Sección: 8\n",
      "Archivo: Procesamient_2023_CD1201_9.xlsx, Año: 2023, Sección: 9\n",
      "Archivo: Procesamient_2024_CD1100_2.xlsx, Año: 2024, Sección: 2\n",
      "Archivo: Procesamient_2024_CD1100_4.xlsx, Año: 2024, Sección: 4\n",
      "Archivo: Procesamient_2024_CD1100_6.xlsx, Año: 2024, Sección: 6\n",
      "Archivo: Procesamient_2024_CD1100_7.xlsx, Año: 2024, Sección: 7\n",
      "Archivo: Procesamient_2024_CD1100_8.xlsx, Año: 2024, Sección: 8\n",
      "\n",
      "Carpeta ya existe: processed_data/Amanda\n",
      "Datos procesados guardados en: processed_data/Amanda/answers_by_secc_Amanda.csv\n",
      "\n",
      "Datos leídos de: processed_data/Amanda/answers_by_secc_Amanda.csv\n"
     ]
    }
   ],
   "source": [
    "from utils.extract_data import process_data\n",
    "from utils.extract_data import read_data\n",
    "\n",
    "caso = process_data()\n",
    "df1, df2 = read_data(caso)"
   ]
  },
  {
   "cell_type": "markdown",
   "metadata": {},
   "source": [
    "## Analisis Gramatical"
   ]
  },
  {
   "cell_type": "markdown",
   "metadata": {},
   "source": [
    "Se debe ejecutar la celda de apply_dependency_analisis solo si se desea realizar un nuevo analisis. De lo contrario basta con ejecutar la celda de graficar."
   ]
  },
  {
   "cell_type": "code",
   "execution_count": 4,
   "metadata": {},
   "outputs": [],
   "source": [
    "import spacy\n",
    "import pandas as pd\n",
    "import numpy as np\n",
    "import matplotlib.pyplot as plt\n",
    "from utils.dependency_tree import *\n",
    "\n",
    "# Función para analizar oraciones y generar su árbol de dependencias\n",
    "def analizar_dependencias(texto):\n",
    "    # Cargar el modelo de SpaCy en español\n",
    "    nlp = spacy.load(\"es_core_news_md\")\n",
    "    \n",
    "    # Procesar el texto con SpaCy\n",
    "    doc = nlp(texto)\n",
    "    \n",
    "    # Inicializar contador de estructuras subordinadas\n",
    "    total_subordinadas = 0\n",
    "    \n",
    "    # Recorrer cada oración en el documento\n",
    "    for sentencia in doc.sents:\n",
    "        # Contar oraciones subordinadas en esta oración\n",
    "        oraciones_subordinadas = [token for token in sentencia if token.dep_ in (\"acl\", \"advcl\", \"csubj\", \"ccomp\", \"xcomp\")]\n",
    "        \n",
    "        # Sumar al total\n",
    "        total_subordinadas += len(oraciones_subordinadas)\n",
    "    \n",
    "    # Devolver el número total de estructuras subordinadas encontradas\n",
    "    return total_subordinadas\n",
    "\n",
    "# Función optimizada para aplicar dependencias solo una vez por grupo, año, y sección\n",
    "def aplicar_dependencias_grupal(df, caso, diferencial, col_ind1, col_grup, col_ind2):\n",
    "    # Aplicar analizar_dependencias directamente a col_ind1 y col_ind2 (en todas las filas)\n",
    "    df['Ind1_d'] = df[col_ind1].apply(lambda x: analizar_dependencias(str(x)))\n",
    "    df['Ind2_d'] = df[col_ind2].apply(lambda x: analizar_dependencias(str(x)))\n",
    "    \n",
    "    # Agrupar por 'Grup', 'agno', 'seccion' y obtener filas únicas\n",
    "    grouped = df[['Grup', 'agno', 'seccion', col_grup]].drop_duplicates(subset=['Grup', 'agno', 'seccion'])\n",
    "    \n",
    "    # Aplicar analizar_dependencias solo una vez para 'col_grup' en las combinaciones únicas\n",
    "    grouped['Grup_d'] = grouped[col_grup].apply(lambda x: analizar_dependencias(str(x)))\n",
    "    \n",
    "    # Unir el resultado de 'Grup_d' al dataframe original, replicando para cada combinación\n",
    "    df = df.merge(grouped[['Grup', 'agno', 'seccion', 'Grup_d']], \n",
    "                  on=['Grup', 'agno', 'seccion'], \n",
    "                  how='left')\n",
    "    \n",
    "    # Guardar el dataframe\n",
    "    df.to_csv(f'resultados/{caso}/df{str(diferencial)}_dependencias.csv', index=False)\n",
    "    \n",
    "    return df"
   ]
  },
  {
   "cell_type": "code",
   "execution_count": 6,
   "metadata": {},
   "outputs": [
    {
     "ename": "",
     "evalue": "",
     "output_type": "error",
     "traceback": [
      "\u001b[1;31mThe Kernel crashed while executing code in the current cell or a previous cell. \n",
      "\u001b[1;31mPlease review the code in the cell(s) to identify a possible cause of the failure. \n",
      "\u001b[1;31mClick <a href='https://aka.ms/vscodeJupyterKernelCrash'>here</a> for more info. \n",
      "\u001b[1;31mView Jupyter <a href='command:jupyter.viewOutput'>log</a> for further details."
     ]
    }
   ],
   "source": [
    "# Aplicar la función optimizada a ambos DataFrames\n",
    "df_diferencial_1 = aplicar_dependencias_grupal(df1, caso, 1, 'Comentario - Ind1 - Diferencial 1', \n",
    "                                               'Comentario - Grup - Diferencial 1', \n",
    "                                               'Comentario - Ind2 - Diferencial 1')\n",
    "\n",
    "df_diferencial_2 = aplicar_dependencias_grupal(df2, caso, 2, 'Comentario - Ind1 - Diferencial 2', \n",
    "                                               'Comentario - Grup - Diferencial 2', \n",
    "                                               'Comentario - Ind2 - Diferencial 2')"
   ]
  },
  {
   "cell_type": "markdown",
   "metadata": {},
   "source": [
    "### Graficos"
   ]
  },
  {
   "cell_type": "markdown",
   "metadata": {},
   "source": []
  },
  {
   "cell_type": "markdown",
   "metadata": {},
   "source": [
    "## Analisis de Topicos BERT"
   ]
  },
  {
   "cell_type": "code",
   "execution_count": 1,
   "metadata": {},
   "outputs": [
    {
     "ename": "ModuleNotFoundError",
     "evalue": "No module named 'nltk'",
     "output_type": "error",
     "traceback": [
      "\u001b[1;31m---------------------------------------------------------------------------\u001b[0m",
      "\u001b[1;31mModuleNotFoundError\u001b[0m                       Traceback (most recent call last)",
      "Cell \u001b[1;32mIn[1], line 4\u001b[0m\n\u001b[0;32m      2\u001b[0m \u001b[38;5;28;01mimport\u001b[39;00m \u001b[38;5;21;01mspacy\u001b[39;00m\n\u001b[0;32m      3\u001b[0m \u001b[38;5;28;01mimport\u001b[39;00m \u001b[38;5;21;01mpandas\u001b[39;00m \u001b[38;5;28;01mas\u001b[39;00m \u001b[38;5;21;01mpd\u001b[39;00m\n\u001b[1;32m----> 4\u001b[0m \u001b[38;5;28;01mfrom\u001b[39;00m \u001b[38;5;21;01mnltk\u001b[39;00m\u001b[38;5;21;01m.\u001b[39;00m\u001b[38;5;21;01mstem\u001b[39;00m \u001b[38;5;28;01mimport\u001b[39;00m SnowballStemmer\n\u001b[0;32m      5\u001b[0m \u001b[38;5;28;01mfrom\u001b[39;00m \u001b[38;5;21;01mbertopic\u001b[39;00m \u001b[38;5;28;01mimport\u001b[39;00m BERTopic\n\u001b[0;32m      6\u001b[0m \u001b[38;5;28;01mfrom\u001b[39;00m \u001b[38;5;21;01mumap\u001b[39;00m \u001b[38;5;28;01mimport\u001b[39;00m UMAP\n",
      "\u001b[1;31mModuleNotFoundError\u001b[0m: No module named 'nltk'"
     ]
    }
   ],
   "source": [
    "import re\n",
    "import spacy\n",
    "import pandas as pd\n",
    "from nltk.stem import SnowballStemmer\n",
    "from bertopic import BERTopic\n",
    "from umap import UMAP\n",
    "from hdbscan import HDBSCAN"
   ]
  },
  {
   "cell_type": "markdown",
   "metadata": {},
   "source": [
    "## Analisis de Topics Eticos"
   ]
  },
  {
   "cell_type": "markdown",
   "metadata": {},
   "source": []
  }
 ],
 "metadata": {
  "kernelspec": {
   "display_name": "ethic_unit_env",
   "language": "python",
   "name": "python3"
  },
  "language_info": {
   "codemirror_mode": {
    "name": "ipython",
    "version": 3
   },
   "file_extension": ".py",
   "mimetype": "text/x-python",
   "name": "python",
   "nbconvert_exporter": "python",
   "pygments_lexer": "ipython3",
   "version": "3.11.9"
  }
 },
 "nbformat": 4,
 "nbformat_minor": 2
}
