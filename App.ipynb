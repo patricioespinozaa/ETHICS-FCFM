{
 "cells": [
  {
   "cell_type": "markdown",
   "metadata": {},
   "source": [
    "# ETHIC - Primavera 2024"
   ]
  },
  {
   "cell_type": "markdown",
   "metadata": {},
   "source": [
    "##  Selección de caso\n",
    "\n",
    "* 1) Caso Amanda"
   ]
  },
  {
   "cell_type": "code",
   "execution_count": 1,
   "metadata": {},
   "outputs": [
    {
     "name": "stdout",
     "output_type": "stream",
     "text": [
      "Casos disponibles:\n",
      "1. Amanda\n",
      "Caso seleccionado: Amanda\n",
      "Archivo: Procesamient_2023_CD1201_2.xlsx, Año: 2023, Sección: 2\n",
      "Archivo: Procesamient_2023_CD1201_3.xlsx, Año: 2023, Sección: 3\n",
      "Archivo: Procesamient_2023_CD1201_4.xlsx, Año: 2023, Sección: 4\n",
      "Archivo: Procesamient_2023_CD1201_5.xlsx, Año: 2023, Sección: 5\n",
      "Archivo: Procesamient_2023_CD1201_7.xlsx, Año: 2023, Sección: 7\n",
      "Archivo: Procesamient_2023_CD1201_8.xlsx, Año: 2023, Sección: 8\n",
      "Archivo: Procesamient_2023_CD1201_9.xlsx, Año: 2023, Sección: 9\n",
      "Archivo: Procesamient_2024_CD1100_2.xlsx, Año: 2024, Sección: 2\n",
      "Archivo: Procesamient_2024_CD1100_4.xlsx, Año: 2024, Sección: 4\n",
      "Archivo: Procesamient_2024_CD1100_6.xlsx, Año: 2024, Sección: 6\n",
      "Archivo: Procesamient_2024_CD1100_7.xlsx, Año: 2024, Sección: 7\n",
      "Archivo: Procesamient_2024_CD1100_8.xlsx, Año: 2024, Sección: 8\n",
      "\n",
      "Carpeta ya existe: processed_data/Amanda\n",
      "Datos procesados guardados en: processed_data/Amanda/answers_by_secc_Amanda.csv\n",
      "\n",
      "Datos leídos de: processed_data/Amanda/answers_by_secc_Amanda.csv\n"
     ]
    }
   ],
   "source": [
    "from utils.extract_data import process_data\n",
    "from utils.extract_data import read_data\n",
    "\n",
    "caso = process_data()\n",
    "df1, df2 = read_data(caso)\n"
   ]
  },
  {
   "cell_type": "markdown",
   "metadata": {},
   "source": [
    "## Analisis Gramatical"
   ]
  },
  {
   "cell_type": "markdown",
   "metadata": {},
   "source": []
  }
 ],
 "metadata": {
  "kernelspec": {
   "display_name": "ethics_env",
   "language": "python",
   "name": "python3"
  },
  "language_info": {
   "codemirror_mode": {
    "name": "ipython",
    "version": 3
   },
   "file_extension": ".py",
   "mimetype": "text/x-python",
   "name": "python",
   "nbconvert_exporter": "python",
   "pygments_lexer": "ipython3",
   "version": "3.11.9"
  }
 },
 "nbformat": 4,
 "nbformat_minor": 2
}
