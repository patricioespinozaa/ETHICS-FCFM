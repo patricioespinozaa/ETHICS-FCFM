{
 "cells": [
  {
   "cell_type": "markdown",
   "metadata": {},
   "source": [
    "# Creación de modelos para predicción de tópicos éticos"
   ]
  },
  {
   "cell_type": "markdown",
   "metadata": {},
   "source": [
    "## 0. Pre procesamiento"
   ]
  },
  {
   "cell_type": "code",
   "execution_count": 1,
   "metadata": {},
   "outputs": [
    {
     "name": "stdout",
     "output_type": "stream",
     "text": [
      "Caso Amanda 2024 procesado\n",
      "Caso Amanda 2023 procesado\n",
      "Caso Adela 2023 procesado\n",
      "Caso Adela 2022 procesado\n",
      "Data guardada en: 'data/data.csv'\n"
     ]
    }
   ],
   "source": [
    "import pandas as pd\n",
    "import os\n",
    "\n",
    "def procesar_caso(caso):\n",
    "    \"\"\"\n",
    "    Procesa los archivos ETHIC_Topics_df1.csv y ETHIC_Topics_df2.csv para un caso dado\n",
    "    y guarda el resultado como un archivo CSV en la carpeta \"data/\".\n",
    "\n",
    "    Args:\n",
    "        caso (str): Nombre del caso (por ejemplo, \"Amanda 2023\").\n",
    "    \n",
    "    Returns:\n",
    "        pd.DataFrame: DataFrame combinado y procesado.\n",
    "    \"\"\"\n",
    "    # Construir las rutas de los archivos\n",
    "    ruta_base = f\"../processed_data/{caso}\"\n",
    "    archivo_d1 = f\"{ruta_base}/ETHIC_Topics_df1.csv\"\n",
    "    archivo_d2 = f\"{ruta_base}/ETHIC_Topics_df2.csv\"\n",
    "\n",
    "    # Leer los archivos\n",
    "    d1 = pd.read_csv(archivo_d1)\n",
    "    d2 = pd.read_csv(archivo_d2)\n",
    "\n",
    "    # Procesar el primer diferencial\n",
    "    d1_label_ind1 = d1[[\"Comentario - Ind1 - Diferencial 1\", \"ETHIC_topicos_ind1\"]].rename(\n",
    "        columns={\"Comentario - Ind1 - Diferencial 1\": \"text\", \"ETHIC_topicos_ind1\": \"label\"})\n",
    "    d1_label_grup = d1[[\"Comentario - Grup - Diferencial 1\", \"ETHIC_topicos_grup\"]].rename(\n",
    "        columns={\"Comentario - Grup - Diferencial 1\": \"text\", \"ETHIC_topicos_grup\": \"label\"})\n",
    "    d1_label_ind2 = d1[[\"Comentario - Ind2 - Diferencial 1\", \"ETHIC_topicos_ind2\"]].rename(\n",
    "        columns={\"Comentario - Ind2 - Diferencial 1\": \"text\", \"ETHIC_topicos_ind2\": \"label\"})\n",
    "\n",
    "    df_d1 = pd.concat([d1_label_ind1, d1_label_grup, d1_label_ind2], ignore_index=True).drop_duplicates(subset=[\"text\"])\n",
    "\n",
    "    # Procesar el segundo diferencial\n",
    "    d2_label_ind1 = d2[[\"Comentario - Ind1 - Diferencial 2\", \"ETHIC_topicos_ind1\"]].rename(\n",
    "        columns={\"Comentario - Ind1 - Diferencial 2\": \"text\", \"ETHIC_topicos_ind1\": \"label\"})\n",
    "    d2_label_grup = d2[[\"Comentario - Grup - Diferencial 2\", \"ETHIC_topicos_grup\"]].rename(\n",
    "        columns={\"Comentario - Grup - Diferencial 2\": \"text\", \"ETHIC_topicos_grup\": \"label\"})\n",
    "    d2_label_ind2 = d2[[\"Comentario - Ind2 - Diferencial 2\", \"ETHIC_topicos_ind2\"]].rename(\n",
    "        columns={\"Comentario - Ind2 - Diferencial 2\": \"text\", \"ETHIC_topicos_ind2\": \"label\"})\n",
    "\n",
    "    df_d2 = pd.concat([d2_label_ind1, d2_label_grup, d2_label_ind2], ignore_index=True).drop_duplicates(subset=[\"text\"])\n",
    "\n",
    "    # Combinar ambos diferenciales y eliminar duplicados\n",
    "    df_combined = pd.concat([df_d1, df_d2], ignore_index=True).drop_duplicates(subset=[\"text\"])\n",
    "\n",
    "    # Crear la carpeta \"data/\" si no existe\n",
    "    os.makedirs(\"data\", exist_ok=True)\n",
    "\n",
    "    # Guardar el resultado como CSV\n",
    "    ruta_salida = f\"data/{caso.replace(' ', '_')}.csv\"\n",
    "    df_combined.to_csv(ruta_salida, index=False)\n",
    "\n",
    "    print(f\"Caso {caso} procesado\")\n",
    "    return df_combined\n",
    "\n",
    "# Uso:\n",
    "procesar_caso(\"Amanda 2024\")\n",
    "procesar_caso(\"Amanda 2023\")\n",
    "procesar_caso(\"Adela 2023\")\n",
    "procesar_caso(\"Adela 2022\")\n",
    "\n",
    "# Concatenar archivos csv de los casos\n",
    "def summarize():\n",
    "    # Leer los archivos usando os\n",
    "    archivos = os.listdir(\"data/\")\n",
    "    dfs = [pd.read_csv(f\"data/{archivo}\") for archivo in archivos]\n",
    "\n",
    "    # Concatenar los DataFrames\n",
    "    df_concat = pd.concat(dfs, ignore_index=True)\n",
    "\n",
    "    # Eliminar archivos \n",
    "    for archivo in archivos:\n",
    "        os.remove(f\"data/{archivo}\")\n",
    "    # Guardar el resultado\n",
    "    df_concat.to_csv(\"data/data.csv\", index=False)\n",
    "    print(\"Data guardada en: 'data/data.csv'\")\n",
    "\n",
    "summarize()"
   ]
  },
  {
   "cell_type": "code",
   "execution_count": 2,
   "metadata": {},
   "outputs": [],
   "source": [
    "import ast\n",
    "\n",
    "# Leer el archivo CSV\n",
    "df = pd.read_csv(\"data/data.csv\")\n",
    "# Procesar la columna \"label\"\n",
    "df['label'] = df['label'].apply(ast.literal_eval)\n",
    "# Pasar toda la columa text a string\n",
    "df['text'] = df['text'].astype(str)"
   ]
  },
  {
   "cell_type": "code",
   "execution_count": 9,
   "metadata": {},
   "outputs": [
    {
     "name": "stderr",
     "output_type": "stream",
     "text": [
      "[nltk_data] Downloading package stopwords to\n",
      "[nltk_data]     C:\\Users\\pbast\\AppData\\Roaming\\nltk_data...\n",
      "[nltk_data]   Package stopwords is already up-to-date!\n"
     ]
    }
   ],
   "source": [
    "import re\n",
    "import spacy\n",
    "import nltk\n",
    "from nltk.corpus import stopwords\n",
    "\n",
    "# Descargar recursos necesarios (solo la primera vez)\n",
    "nltk.download('stopwords')\n",
    "\n",
    "# Cargar modelo de SpaCy para español\n",
    "nlp = spacy.load('es_core_news_md')\n",
    "\n",
    "# Stopwords en español\n",
    "stop_words = set(stopwords.words('spanish'))\n",
    "\n",
    "def preprocess_text(text):\n",
    "    # 1. Convertir a minúsculas\n",
    "    text = text.lower()\n",
    "    \n",
    "    # 2. Eliminar caracteres especiales, números y puntuación\n",
    "    text = re.sub(r\"[^a-záéíóúñü\\s]\", \"\", text)\n",
    "    \n",
    "    # 3. Procesar texto con SpaCy para lematización\n",
    "    doc = nlp(text)\n",
    "    words = [token.lemma_ for token in doc if token.lemma_ not in stop_words and not token.is_punct]\n",
    "    \n",
    "    # 4. Unir palabras en un solo string\n",
    "    text = \" \".join(words)\n",
    "    \n",
    "    # 5. Eliminar espacios adicionales\n",
    "    text = re.sub(r\"\\s+\", \" \", text).strip()\n",
    "    \n",
    "    return text\n",
    "\n",
    "# Aplicar preprocesamiento a la columna \"text\"\n",
    "df['text_processed'] = df['text'].apply(preprocess_text)\n",
    "\n",
    "# Guardar el resultado\n",
    "df.to_csv(\"data/data.csv\", index=False)"
   ]
  },
  {
   "cell_type": "markdown",
   "metadata": {},
   "source": [
    "### 0.1 Tokens"
   ]
  },
  {
   "cell_type": "code",
   "execution_count": null,
   "metadata": {},
   "outputs": [],
   "source": [
    "def tokenize_text(text):\n",
    "    tokens = text.split()\n",
    "    return tokens\n",
    "\n",
    "# Aplicar tokenización y guardar en CSV\n",
    "def save_tokenized_csv(df, column, output_path):\n",
    "    df['tokens'] = df[column].apply(tokenize_text)\n",
    "    df.to_csv(output_path, index=False)"
   ]
  },
  {
   "cell_type": "markdown",
   "metadata": {},
   "source": [
    "### 0.2 N-grams"
   ]
  },
  {
   "cell_type": "code",
   "execution_count": null,
   "metadata": {},
   "outputs": [],
   "source": [
    "from sklearn.feature_extraction.text import CountVectorizer\n",
    "\n",
    "def generate_ngrams(text, n=2):\n",
    "    vectorizer = CountVectorizer(ngram_range=(n, n), token_pattern=r'\\b\\w+\\b')\n",
    "    ngrams = vectorizer.fit_transform([text])\n",
    "    ngram_features = vectorizer.get_feature_names_out()\n",
    "    return ngram_features\n",
    "\n",
    "# Aplicar generación de n-gramas y guardar en CSV\n",
    "def save_ngrams_csv(df, column, n, output_path):\n",
    "    df[f'{n}_grams'] = df[column].apply(lambda text: generate_ngrams(text, n))\n",
    "    df.to_csv(output_path, index=False)"
   ]
  },
  {
   "cell_type": "markdown",
   "metadata": {},
   "source": [
    "#### 0.3 Subword tokenization para BERT"
   ]
  },
  {
   "cell_type": "code",
   "execution_count": null,
   "metadata": {},
   "outputs": [],
   "source": [
    "from transformers import BertTokenizer\n",
    "\n",
    "# Cargar tokenizador de BERT\n",
    "tokenizer = BertTokenizer.from_pretrained('bert-base-multilingual-cased')\n",
    "\n",
    "def bert_tokenization(text):\n",
    "    tokens = tokenizer.tokenize(text)\n",
    "    return tokens\n",
    "\n",
    "# Aplicar tokenización de subwords y guardar en CSV\n",
    "def save_bert_tokens_csv(df, column, output_path):\n",
    "    df['bert_tokens'] = df[column].apply(bert_tokenization)\n",
    "    df.to_csv(output_path, index=False)\n"
   ]
  },
  {
   "cell_type": "markdown",
   "metadata": {},
   "source": [
    "### 0.4 Representaciones vectoriales: Bag of Words (BoW)"
   ]
  },
  {
   "cell_type": "code",
   "execution_count": 17,
   "metadata": {},
   "outputs": [],
   "source": [
    "from sklearn.feature_extraction.text import CountVectorizer\n",
    "\n",
    "def get_bow(texts):\n",
    "    vectorizer = CountVectorizer()\n",
    "    bow_matrix = vectorizer.fit_transform(texts)\n",
    "    return bow_matrix, vectorizer"
   ]
  },
  {
   "cell_type": "markdown",
   "metadata": {},
   "source": [
    "### 0.5 Representaciones vectoriales: TF-IDF"
   ]
  },
  {
   "cell_type": "code",
   "execution_count": 10,
   "metadata": {},
   "outputs": [],
   "source": [
    "from sklearn.feature_extraction.text import TfidfVectorizer\n",
    "\n",
    "def get_tfidf(texts):\n",
    "    vectorizer = TfidfVectorizer()\n",
    "    tfidf_matrix = vectorizer.fit_transform(texts)\n",
    "    return tfidf_matrix, vectorizer"
   ]
  },
  {
   "cell_type": "markdown",
   "metadata": {},
   "source": [
    "### 0.6 Representaciones vectoriales: Word2Vec"
   ]
  },
  {
   "cell_type": "code",
   "execution_count": 11,
   "metadata": {},
   "outputs": [],
   "source": [
    "from gensim.models import Word2Vec\n",
    "\n",
    "def get_word2vec(sentences, vector_size=100, window=5, min_count=1):\n",
    "    model = Word2Vec(sentences, vector_size=vector_size, window=window, min_count=min_count)\n",
    "    return model"
   ]
  },
  {
   "cell_type": "markdown",
   "metadata": {},
   "source": [
    "### 0.7 Representaciones vectoriales: GloVe"
   ]
  },
  {
   "cell_type": "code",
   "execution_count": 12,
   "metadata": {},
   "outputs": [],
   "source": [
    "# GloVe requiere descargar previamente embeddings preentrenados\n",
    "from gensim.models import KeyedVectors\n",
    "\n",
    "def load_glove_model(glove_file):\n",
    "    model = KeyedVectors.load_word2vec_format(glove_file, binary=False)\n",
    "    return model\n"
   ]
  },
  {
   "cell_type": "markdown",
   "metadata": {},
   "source": [
    "### 0.8 BERT"
   ]
  },
  {
   "cell_type": "code",
   "execution_count": 13,
   "metadata": {},
   "outputs": [],
   "source": [
    "from transformers import BertModel\n",
    "\n",
    "def get_bert_embeddings(texts):\n",
    "    model = BertModel.from_pretrained('bert-base-multilingual-cased')\n",
    "    inputs = tokenizer(texts, return_tensors=\"pt\", padding=True, truncation=True)\n",
    "    outputs = model(**inputs)\n",
    "    return outputs.last_hidden_state"
   ]
  },
  {
   "cell_type": "markdown",
   "metadata": {},
   "source": [
    "### 0.9 One Hot Encoder"
   ]
  },
  {
   "cell_type": "code",
   "execution_count": null,
   "metadata": {},
   "outputs": [],
   "source": [
    "from sklearn.preprocessing import OneHotEncoder\n",
    "\n",
    "def get_one_hot_encoding(texts):\n",
    "    encoder = OneHotEncoder(sparse=False)\n",
    "    one_hot = encoder.fit_transform([[text] for text in texts])\n",
    "    return one_hot, encoder"
   ]
  },
  {
   "cell_type": "markdown",
   "metadata": {},
   "source": [
    "## Obtener representaciones"
   ]
  },
  {
   "cell_type": "code",
   "execution_count": null,
   "metadata": {},
   "outputs": [],
   "source": [
    "bow_matrix, bow_vectorizer = get_bow(df['processed_text'])\n",
    "tfidf_matrix, tfidf_vectorizer = get_tfidf(df['processed_text'])\n",
    "word2vec_model = get_word2vec(df['processed_text'].apply(lambda x: x.split()))\n",
    "glove_model = load_glove_model('path_to_glove_file.txt')\n",
    "bert_embeddings = get_bert_embeddings(df['processed_text'].tolist())\n",
    "one_hot, encoder = get_one_hot_encoding(df['processed_text'])"
   ]
  },
  {
   "cell_type": "markdown",
   "metadata": {},
   "source": [
    "## Modelos estadísticos"
   ]
  },
  {
   "cell_type": "markdown",
   "metadata": {},
   "source": [
    "### LDA (Latent Dirichlet Allocation)\n",
    "* Encuentra temas basados en la frecuencia de palabras en el texto"
   ]
  },
  {
   "cell_type": "code",
   "execution_count": 36,
   "metadata": {},
   "outputs": [
    {
     "name": "stdout",
     "output_type": "stream",
     "text": [
      "\n",
      "LDA Topics:\n",
      "Tema 0:  ['algoritm', 'enfermed', 'explic', 'exactitud', 'detect']\n",
      "Tema 1:  ['import', 'salud', 'deb', 'tal', 'exactitud']\n",
      "Tema 2:  ['pued', 'podr', 'person', 'quizas', 'mayor']\n",
      "Tema 3:  ['sig', 'respuest', 'anterior', 'grup', 'postur']\n",
      "Tema 4:  ['tradicion', 'deb', 'import', 'resguard', 'puebl']\n",
      "Tema 5:  ['tradicion', 'aliment', 'produc', 'deb', 'puebl']\n",
      "Tema 6:  ['recurs', 'preserv', 'natural', 'deb', 'esco']\n",
      "Tema 7:  ['frut', 'puebl', 'respet', 'si', 'pued']\n",
      "Tema 8:  ['lleg', 'acuerd', 'puebl', 'originari', 'respet']\n",
      "Tema 9:  ['agu', 'sector', 'gran', 'poblacion', 'afect']\n",
      "Tema 10:  ['grup', 'person', 'mayor', 'consider', 'edad']\n",
      "Tema 11:  ['exactitud', 'explic', 'mayor', 'algoritm', 'mejor']\n",
      "Tema 12:  ['frut', 'puebl', 'tradicion', 'originari', 'si']\n",
      "Tema 13:  ['proyect', 'frut', 'si', 'diaguit', 'comun']\n",
      "Tema 14:  ['vitamin', 'deficit', 'obtar', 'pued', 'exist']\n",
      "Tema 15:  ['aliment', 'gent', 'puebl', 'import', 'pued']\n",
      "Tema 16:  ['import', 'salud', 'tem', 'si', 'aun']\n",
      "Tema 17:  ['poblacion', 'mayor', 'migrant', 'error', 'algoritm']\n",
      "Tema 18:  ['busc', 'medi', 'deb', 'punt', 'cre']\n",
      "Tema 19:  ['vid', 'si', 'pued', 'salv', 'human']\n",
      "Tema 20:  ['explic', 'algoritm', 'mejor', 'exactitud', 'result']\n",
      "Tema 21:  ['agu', 'plaz', 'larg', 'import', 'escasez']\n",
      "Tema 22:  ['pued', 'frut', 'produccion', 'aliment', 'cre']\n",
      "Tema 23:  ['hidric', 'problem', 'escasez', 'agu', 'solucion']\n",
      "Tema 24:  ['tradicion', 'llev', 'pas', 'identitari', 'puebl']\n",
      "Tema 25:  ['recurs', 'agu', 'preserv', 'vitamin', 'esco']\n",
      "Tema 26:  ['vid', 'agu', 'calid', 'import', 'deb']\n",
      "Tema 27:  ['algoritm', 'mayor', 'error', 'si', 'enfermed']\n",
      "Tema 28:  ['solucion', 'problem', 'pued', 'tra', 'consecuent']\n",
      "Tema 29:  ['priorid', 'person', 'import', 'mas', 'vid']\n",
      "Tema 30:  ['algoritm', 'poblacion', 'mayor', 'migrant', 'mejor']\n",
      "Tema 31:  ['deb', 'enfermed', 'ser', 'trat', 'detect']\n",
      "Tema 32:  ['aliment', 'benefici', 'person', 'much', 'produccion']\n",
      "Tema 33:  ['error', 'mayor', 'algoritm', 'poblacion', 'promedi']\n",
      "Tema 34:  ['dañ', 'benefici', 'gener', 'poblacion', 'consider']\n",
      "Tema 35:  ['opinion', 'punt', 'vist', 'cambi', 'pens']\n",
      "Tema 36:  ['algoritm', 'mas', 'error', 'mejor', 'asi']\n",
      "Tema 37:  ['agu', 'cultiv', 'frut', 'afect', 'produccion']\n",
      "Tema 38:  ['opinion', 'postur', 'mism', 'manteng', 'cambi']\n",
      "Tema 39:  ['niñ', 'salud', 'ancian', 'benefici', 'import']\n",
      "Tema 40:  ['agu', 'mas', 'gast', 'tant', 'si']\n"
     ]
    }
   ],
   "source": [
    "from sklearn.feature_extraction.text import CountVectorizer, TfidfVectorizer\n",
    "from sklearn.decomposition import LatentDirichletAllocation, TruncatedSVD\n",
    "\n",
    "# Vectorización (Bag of Words)\n",
    "vectorizer = CountVectorizer()\n",
    "X = vectorizer.fit_transform(df[\"text_processed\"])\n",
    "\n",
    "# Modelo LDA\n",
    "n_topics = 41 \n",
    "lda_model = LatentDirichletAllocation(n_components=n_topics, random_state=42)\n",
    "lda_model.fit(X)\n",
    "\n",
    "# Palabras clave de cada tema\n",
    "def print_lda_topics(model, feature_names, n_words=5):\n",
    "    for idx, topic in enumerate(model.components_):\n",
    "        print(f\"Tema {idx}: \", [feature_names[i] for i in topic.argsort()[:-n_words - 1:-1]])\n",
    "\n",
    "print(\"\\nLDA Topics:\")\n",
    "print_lda_topics(lda_model, vectorizer.get_feature_names_out())"
   ]
  },
  {
   "cell_type": "code",
   "execution_count": 37,
   "metadata": {},
   "outputs": [
    {
     "name": "stdout",
     "output_type": "stream",
     "text": [
      "\n",
      "LDA Topics (usando TF-IDF):\n",
      "Tema 0:  ['algoritm', 'enfermed', 'explic', 'exactitud', 'detect']\n",
      "Tema 1:  ['import', 'salud', 'deb', 'tal', 'exactitud']\n",
      "Tema 2:  ['pued', 'podr', 'person', 'quizas', 'mayor']\n",
      "Tema 3:  ['sig', 'respuest', 'anterior', 'grup', 'postur']\n",
      "Tema 4:  ['tradicion', 'deb', 'import', 'resguard', 'puebl']\n",
      "Tema 5:  ['tradicion', 'aliment', 'produc', 'deb', 'puebl']\n",
      "Tema 6:  ['recurs', 'preserv', 'natural', 'deb', 'esco']\n",
      "Tema 7:  ['frut', 'puebl', 'respet', 'si', 'pued']\n",
      "Tema 8:  ['lleg', 'acuerd', 'puebl', 'originari', 'respet']\n",
      "Tema 9:  ['agu', 'sector', 'gran', 'poblacion', 'afect']\n",
      "Tema 10:  ['grup', 'person', 'mayor', 'consider', 'edad']\n",
      "Tema 11:  ['exactitud', 'explic', 'mayor', 'algoritm', 'mejor']\n",
      "Tema 12:  ['frut', 'puebl', 'tradicion', 'originari', 'si']\n",
      "Tema 13:  ['proyect', 'frut', 'si', 'diaguit', 'comun']\n",
      "Tema 14:  ['vitamin', 'deficit', 'obtar', 'pued', 'exist']\n",
      "Tema 15:  ['aliment', 'gent', 'puebl', 'import', 'pued']\n",
      "Tema 16:  ['import', 'salud', 'tem', 'si', 'aun']\n",
      "Tema 17:  ['poblacion', 'mayor', 'migrant', 'error', 'algoritm']\n",
      "Tema 18:  ['busc', 'medi', 'deb', 'punt', 'cre']\n",
      "Tema 19:  ['vid', 'si', 'pued', 'salv', 'human']\n",
      "Tema 20:  ['explic', 'algoritm', 'mejor', 'exactitud', 'result']\n",
      "Tema 21:  ['agu', 'plaz', 'larg', 'import', 'escasez']\n",
      "Tema 22:  ['pued', 'frut', 'produccion', 'aliment', 'cre']\n",
      "Tema 23:  ['hidric', 'problem', 'escasez', 'agu', 'solucion']\n",
      "Tema 24:  ['tradicion', 'llev', 'pas', 'identitari', 'puebl']\n",
      "Tema 25:  ['recurs', 'agu', 'preserv', 'vitamin', 'esco']\n",
      "Tema 26:  ['vid', 'agu', 'calid', 'import', 'deb']\n",
      "Tema 27:  ['algoritm', 'mayor', 'error', 'si', 'enfermed']\n",
      "Tema 28:  ['solucion', 'problem', 'pued', 'tra', 'consecuent']\n",
      "Tema 29:  ['priorid', 'person', 'import', 'mas', 'vid']\n",
      "Tema 30:  ['algoritm', 'poblacion', 'mayor', 'migrant', 'mejor']\n",
      "Tema 31:  ['deb', 'enfermed', 'ser', 'trat', 'detect']\n",
      "Tema 32:  ['aliment', 'benefici', 'person', 'much', 'produccion']\n",
      "Tema 33:  ['error', 'mayor', 'algoritm', 'poblacion', 'promedi']\n",
      "Tema 34:  ['dañ', 'benefici', 'gener', 'poblacion', 'consider']\n",
      "Tema 35:  ['opinion', 'punt', 'vist', 'cambi', 'pens']\n",
      "Tema 36:  ['algoritm', 'mas', 'error', 'mejor', 'asi']\n",
      "Tema 37:  ['agu', 'cultiv', 'frut', 'afect', 'produccion']\n",
      "Tema 38:  ['opinion', 'postur', 'mism', 'manteng', 'cambi']\n",
      "Tema 39:  ['niñ', 'salud', 'ancian', 'benefici', 'import']\n",
      "Tema 40:  ['agu', 'mas', 'gast', 'tant', 'si']\n"
     ]
    }
   ],
   "source": [
    "# TF-IDF\n",
    "print(\"\\nLDA Topics (usando TF-IDF):\")\n",
    "print_lda_topics(lda_model, tfidf_vectorizer.get_feature_names_out())"
   ]
  },
  {
   "cell_type": "code",
   "execution_count": 38,
   "metadata": {},
   "outputs": [
    {
     "name": "stdout",
     "output_type": "stream",
     "text": [
      "\n",
      "LDA Topics (usando BoW):\n",
      "Tema 0:  ['algoritm', 'enfermed', 'explic', 'exactitud', 'detect']\n",
      "Tema 1:  ['import', 'salud', 'deb', 'tal', 'exactitud']\n",
      "Tema 2:  ['pued', 'podr', 'person', 'quizas', 'mayor']\n",
      "Tema 3:  ['sig', 'respuest', 'anterior', 'grup', 'postur']\n",
      "Tema 4:  ['tradicion', 'deb', 'import', 'resguard', 'puebl']\n",
      "Tema 5:  ['tradicion', 'aliment', 'produc', 'deb', 'puebl']\n",
      "Tema 6:  ['recurs', 'preserv', 'natural', 'deb', 'esco']\n",
      "Tema 7:  ['frut', 'puebl', 'respet', 'si', 'pued']\n",
      "Tema 8:  ['lleg', 'acuerd', 'puebl', 'originari', 'respet']\n",
      "Tema 9:  ['agu', 'sector', 'gran', 'poblacion', 'afect']\n",
      "Tema 10:  ['grup', 'person', 'mayor', 'consider', 'edad']\n",
      "Tema 11:  ['exactitud', 'explic', 'mayor', 'algoritm', 'mejor']\n",
      "Tema 12:  ['frut', 'puebl', 'tradicion', 'originari', 'si']\n",
      "Tema 13:  ['proyect', 'frut', 'si', 'diaguit', 'comun']\n",
      "Tema 14:  ['vitamin', 'deficit', 'obtar', 'pued', 'exist']\n",
      "Tema 15:  ['aliment', 'gent', 'puebl', 'import', 'pued']\n",
      "Tema 16:  ['import', 'salud', 'tem', 'si', 'aun']\n",
      "Tema 17:  ['poblacion', 'mayor', 'migrant', 'error', 'algoritm']\n",
      "Tema 18:  ['busc', 'medi', 'deb', 'punt', 'cre']\n",
      "Tema 19:  ['vid', 'si', 'pued', 'salv', 'human']\n",
      "Tema 20:  ['explic', 'algoritm', 'mejor', 'exactitud', 'result']\n",
      "Tema 21:  ['agu', 'plaz', 'larg', 'import', 'escasez']\n",
      "Tema 22:  ['pued', 'frut', 'produccion', 'aliment', 'cre']\n",
      "Tema 23:  ['hidric', 'problem', 'escasez', 'agu', 'solucion']\n",
      "Tema 24:  ['tradicion', 'llev', 'pas', 'identitari', 'puebl']\n",
      "Tema 25:  ['recurs', 'agu', 'preserv', 'vitamin', 'esco']\n",
      "Tema 26:  ['vid', 'agu', 'calid', 'import', 'deb']\n",
      "Tema 27:  ['algoritm', 'mayor', 'error', 'si', 'enfermed']\n",
      "Tema 28:  ['solucion', 'problem', 'pued', 'tra', 'consecuent']\n",
      "Tema 29:  ['priorid', 'person', 'import', 'mas', 'vid']\n",
      "Tema 30:  ['algoritm', 'poblacion', 'mayor', 'migrant', 'mejor']\n",
      "Tema 31:  ['deb', 'enfermed', 'ser', 'trat', 'detect']\n",
      "Tema 32:  ['aliment', 'benefici', 'person', 'much', 'produccion']\n",
      "Tema 33:  ['error', 'mayor', 'algoritm', 'poblacion', 'promedi']\n",
      "Tema 34:  ['dañ', 'benefici', 'gener', 'poblacion', 'consider']\n",
      "Tema 35:  ['opinion', 'punt', 'vist', 'cambi', 'pens']\n",
      "Tema 36:  ['algoritm', 'mas', 'error', 'mejor', 'asi']\n",
      "Tema 37:  ['agu', 'cultiv', 'frut', 'afect', 'produccion']\n",
      "Tema 38:  ['opinion', 'postur', 'mism', 'manteng', 'cambi']\n",
      "Tema 39:  ['niñ', 'salud', 'ancian', 'benefici', 'import']\n",
      "Tema 40:  ['agu', 'mas', 'gast', 'tant', 'si']\n"
     ]
    }
   ],
   "source": [
    "# BoW\n",
    "print(\"\\nLDA Topics (usando BoW):\")\n",
    "print_lda_topics(lda_model, bow_vectorizer.get_feature_names_out())"
   ]
  },
  {
   "cell_type": "markdown",
   "metadata": {},
   "source": [
    "### LSA (Latent Semantic Analysis)\n",
    "\n",
    "* Utiliza descomposición SVD (Singular Value Descomposition) en una matriz TF-IDF para encontrar conceptos latentes."
   ]
  },
  {
   "cell_type": "code",
   "execution_count": 35,
   "metadata": {},
   "outputs": [],
   "source": [
    "from sklearn.decomposition import TruncatedSVD\n",
    "\n",
    "# BoW\n",
    "bow_matrix, bow_vectorizer = get_bow(df[\"text_processed\"])\n",
    "\n",
    "# TF-IDF\n",
    "tfidf_matrix, tfidf_vectorizer = get_tfidf(df[\"text_processed\"])\n",
    "\n",
    "# Modelo LSA\n",
    "n_components = 41  # Ajusta el número de conceptos según tu dataset\n",
    "lsa_model = TruncatedSVD(n_components=n_components, random_state=42)\n",
    "\n",
    "# Cambia entre BoW y TF-IDF aquí:\n",
    "lsa_model.fit(tfidf_matrix)  # Cambia a `bow_matrix` si prefieres usar BoW\n",
    "\n",
    "# Palabras clave de cada concepto\n",
    "def print_lsa_topics(model, feature_names, n_words=5):\n",
    "    for idx, topic in enumerate(model.components_):\n",
    "        print(f\"Concepto {idx}: \", [feature_names[i] for i in topic.argsort()[:-n_words - 1:-1]])\n"
   ]
  },
  {
   "cell_type": "code",
   "execution_count": 33,
   "metadata": {},
   "outputs": [
    {
     "name": "stdout",
     "output_type": "stream",
     "text": [
      "\n",
      "LSA Topics (usando TF-IDF):\n",
      "Concepto 0:  ['deb', 'import', 'aliment', 'pued', 'agu']\n",
      "Concepto 1:  ['algoritm', 'error', 'mayor', 'enfermed', 'explic']\n",
      "Concepto 2:  ['agu', 'recurs', 'preserv', 'natural', 'hidric']\n",
      "Concepto 3:  ['poblacion', 'error', 'migrant', 'promedi', 'menor']\n",
      "Concepto 4:  ['import', 'salud', 'niñ', 'person', 'tradicion']\n",
      "Concepto 5:  ['deb', 'natural', 'recurs', 'preserv', 'esco']\n",
      "Concepto 6:  ['aliment', 'deb', 'prioriz', 'produc', 'produccion']\n",
      "Concepto 7:  ['solucion', 'problem', 'tradicion', 'salud', 'deb']\n",
      "Concepto 8:  ['benefici', 'salud', 'niñ', 'person', 'si']\n",
      "Concepto 9:  ['problem', 'solucion', 'opinion', 'grup', 'mism']\n",
      "Concepto 10:  ['deb', 'agu', 'si', 'bien', 'comun']\n",
      "Concepto 11:  ['person', 'grup', 'vid', 'cantid', 'vitamin']\n",
      "Concepto 12:  ['enfermed', 'detect', 'puebl', 'person', 'originari']\n",
      "Concepto 13:  ['lleg', 'pued', 'acuerd', 'enfermed', 'solucion']\n",
      "Concepto 14:  ['agu', 'mayor', 'vitamin', 'niñ', 'salud']\n",
      "Concepto 15:  ['si', 'bien', 'enfermed', 'detect', 'mism']\n",
      "Concepto 16:  ['bien', 'si', 'mayor', 'lleg', 'vitamin']\n",
      "Concepto 17:  ['llev', 'pas', 'mejor', 'agu', 'busc']\n",
      "Concepto 18:  ['mas', 'llev', 'pas', 'algoritm', 'vitamin']\n",
      "Concepto 19:  ['pued', 'ser', 'poblacion', 'mayor', 'llev']\n",
      "Concepto 20:  ['mayor', 'mas', 'puebl', 'error', 'problem']\n",
      "Concepto 21:  ['algoritm', 'hidric', 'llev', 'escasez', 'error']\n",
      "Concepto 22:  ['mas', 'prioriz', 'mejor', 'frut', 'poblacion']\n",
      "Concepto 23:  ['frut', 'mayor', 'algoritm', 'comun', 'mas']\n",
      "Concepto 24:  ['cre', 'ser', 'frut', 'pas', 'llev']\n",
      "Concepto 25:  ['consider', 'person', 'solucion', 'llev', 'aliment']\n",
      "Concepto 26:  ['algoritm', 'detect', 'problem', 'tuberculosis', 'tradicion']\n",
      "Concepto 27:  ['consider', 'proyect', 'mejor', 'ser', 'mayor']\n",
      "Concepto 28:  ['vid', 'salv', 'produccion', 'busc', 'form']\n",
      "Concepto 29:  ['benefici', 'cre', 'error', 'podr', 'afect']\n",
      "Concepto 30:  ['ser', 'afect', 'maner', 'podr', 'niñ']\n",
      "Concepto 31:  ['podr', 'form', 'pod', 'ser', 'hidric']\n",
      "Concepto 32:  ['produccion', 'mism', 'ser', 'afect', 'mejor']\n",
      "Concepto 33:  ['consider', 'form', 'ayud', 'proyect', 'cas']\n",
      "Concepto 34:  ['asi', 'aun', 'produccion', 'opinion', 'niñ']\n",
      "Concepto 35:  ['form', 'produccion', 'grup', 'pod', 'gent']\n",
      "Concepto 36:  ['gent', 'import', 'cantid', 'asi', 'ayud']\n",
      "Concepto 37:  ['grup', 'comun', 'asi', 'proyect', 'form']\n",
      "Concepto 38:  ['mism', 'consider', 'niñ', 'vid', 'benefici']\n",
      "Concepto 39:  ['grup', 'asi', 'pues', 'gent', 'ayud']\n",
      "Concepto 40:  ['opinion', 'podr', 'busc', 'grup', 'comun']\n"
     ]
    }
   ],
   "source": [
    "# TF-IDF\n",
    "print(\"\\nLSA Topics (usando TF-IDF):\")\n",
    "print_lsa_topics(lsa_model, tfidf_vectorizer.get_feature_names_out())"
   ]
  },
  {
   "cell_type": "code",
   "execution_count": 34,
   "metadata": {},
   "outputs": [
    {
     "name": "stdout",
     "output_type": "stream",
     "text": [
      "\n",
      "LSA Topics (usando BoW):\n",
      "Concepto 0:  ['deb', 'import', 'aliment', 'pued', 'agu']\n",
      "Concepto 1:  ['algoritm', 'error', 'mayor', 'enfermed', 'explic']\n",
      "Concepto 2:  ['agu', 'recurs', 'preserv', 'natural', 'hidric']\n",
      "Concepto 3:  ['poblacion', 'error', 'migrant', 'promedi', 'menor']\n",
      "Concepto 4:  ['import', 'salud', 'niñ', 'person', 'tradicion']\n",
      "Concepto 5:  ['deb', 'natural', 'recurs', 'preserv', 'esco']\n",
      "Concepto 6:  ['aliment', 'deb', 'prioriz', 'produc', 'produccion']\n",
      "Concepto 7:  ['solucion', 'problem', 'tradicion', 'salud', 'deb']\n",
      "Concepto 8:  ['benefici', 'salud', 'niñ', 'person', 'si']\n",
      "Concepto 9:  ['problem', 'solucion', 'opinion', 'grup', 'mism']\n",
      "Concepto 10:  ['deb', 'agu', 'si', 'bien', 'comun']\n",
      "Concepto 11:  ['person', 'grup', 'vid', 'cantid', 'vitamin']\n",
      "Concepto 12:  ['enfermed', 'detect', 'puebl', 'person', 'originari']\n",
      "Concepto 13:  ['lleg', 'pued', 'acuerd', 'enfermed', 'solucion']\n",
      "Concepto 14:  ['agu', 'mayor', 'vitamin', 'niñ', 'salud']\n",
      "Concepto 15:  ['si', 'bien', 'enfermed', 'detect', 'mism']\n",
      "Concepto 16:  ['bien', 'si', 'mayor', 'lleg', 'vitamin']\n",
      "Concepto 17:  ['llev', 'pas', 'mejor', 'agu', 'busc']\n",
      "Concepto 18:  ['mas', 'llev', 'pas', 'algoritm', 'vitamin']\n",
      "Concepto 19:  ['pued', 'ser', 'poblacion', 'mayor', 'llev']\n",
      "Concepto 20:  ['mayor', 'mas', 'puebl', 'error', 'problem']\n",
      "Concepto 21:  ['algoritm', 'hidric', 'llev', 'escasez', 'error']\n",
      "Concepto 22:  ['mas', 'prioriz', 'mejor', 'frut', 'poblacion']\n",
      "Concepto 23:  ['frut', 'mayor', 'algoritm', 'comun', 'mas']\n",
      "Concepto 24:  ['cre', 'ser', 'frut', 'pas', 'llev']\n",
      "Concepto 25:  ['consider', 'person', 'solucion', 'llev', 'aliment']\n",
      "Concepto 26:  ['algoritm', 'detect', 'problem', 'tuberculosis', 'tradicion']\n",
      "Concepto 27:  ['consider', 'proyect', 'mejor', 'ser', 'mayor']\n",
      "Concepto 28:  ['vid', 'salv', 'produccion', 'busc', 'form']\n",
      "Concepto 29:  ['benefici', 'cre', 'error', 'podr', 'afect']\n",
      "Concepto 30:  ['ser', 'afect', 'maner', 'podr', 'niñ']\n",
      "Concepto 31:  ['podr', 'form', 'pod', 'ser', 'hidric']\n",
      "Concepto 32:  ['produccion', 'mism', 'ser', 'afect', 'mejor']\n",
      "Concepto 33:  ['consider', 'form', 'ayud', 'proyect', 'cas']\n",
      "Concepto 34:  ['asi', 'aun', 'produccion', 'opinion', 'niñ']\n",
      "Concepto 35:  ['form', 'produccion', 'grup', 'pod', 'gent']\n",
      "Concepto 36:  ['gent', 'import', 'cantid', 'asi', 'ayud']\n",
      "Concepto 37:  ['grup', 'comun', 'asi', 'proyect', 'form']\n",
      "Concepto 38:  ['mism', 'consider', 'niñ', 'vid', 'benefici']\n",
      "Concepto 39:  ['grup', 'asi', 'pues', 'gent', 'ayud']\n",
      "Concepto 40:  ['opinion', 'podr', 'busc', 'grup', 'comun']\n"
     ]
    }
   ],
   "source": [
    "# BoW\n",
    "print(\"\\nLSA Topics (usando BoW):\")\n",
    "print_lsa_topics(lsa_model, bow_vectorizer.get_feature_names_out())"
   ]
  },
  {
   "cell_type": "markdown",
   "metadata": {},
   "source": [
    "#### Métricas"
   ]
  },
  {
   "cell_type": "markdown",
   "metadata": {},
   "source": [
    "- 90%-95%: Si deseas capturar casi toda la información de los datos. Este es un estándar común en análisis dimensional.\n",
    "- 80%-85%: Si quieres reducir más la dimensionalidad mientras conservas información significativa.\n",
    "- 60%-70%: Útil si buscas un modelo más ligero y estás dispuesto a sacrificar algo de precisión en favor de velocidad o simplicidad.\n",
    "<br><br>\n",
    "Codo en la Gráfica:\n",
    "<br>\n",
    "- Observa la gráfica de varianza explicada acumulada. Elige el valor de n_components donde la ganancia marginal (pendiente) comienza a disminuir significativamente. Este punto, llamado el \"codo\", es una buena elección porque representa un equilibrio entre simplicidad y retención de información."
   ]
  },
  {
   "cell_type": "code",
   "execution_count": 42,
   "metadata": {},
   "outputs": [
    {
     "data": {
      "image/png": "[encoded data removed]",
      "text/plain": [
       "<Figure size 1200x600 with 1 Axes>"
      ]
     },
     "metadata": {},
     "output_type": "display_data"
    }
   ],
   "source": [
    "import numpy as np\n",
    "import matplotlib.pyplot as plt\n",
    "from sklearn.decomposition import TruncatedSVD\n",
    "\n",
    "# Vectorización con TF-IDF\n",
    "tfidf_matrix, tfidf_vectorizer = get_tfidf(df[\"text_processed\"])\n",
    "\n",
    "# Vectorización con BoW\n",
    "bow_matrix, bow_vectorizer = get_bow(df[\"text_processed\"])\n",
    "\n",
    "# components\n",
    "n_components = 41\n",
    "\n",
    "# Listas para almacenar varianza explicada acumulada\n",
    "explained_variance_ratios_tfidf = []\n",
    "explained_variance_ratios_bow = []\n",
    "\n",
    "# Probar n_components de 2 a 20\n",
    "for n in range(2, n_components):\n",
    "    # TF-IDF\n",
    "    lsa_model_tfidf = TruncatedSVD(n_components=n, random_state=42)\n",
    "    lsa_model_tfidf.fit(tfidf_matrix)\n",
    "    explained_variance_ratios_tfidf.append(np.sum(lsa_model_tfidf.explained_variance_ratio_))\n",
    "    \n",
    "    # BoW\n",
    "    lsa_model_bow = TruncatedSVD(n_components=n, random_state=42)\n",
    "    lsa_model_bow.fit(bow_matrix)\n",
    "    explained_variance_ratios_bow.append(np.sum(lsa_model_bow.explained_variance_ratio_))\n",
    "\n",
    "# Graficar resultados\n",
    "plt.figure(figsize=(12, 6))\n",
    "plt.plot(range(2, n_components), explained_variance_ratios_tfidf, marker='o', label=\"TF-IDF\", color='blue')\n",
    "plt.plot(range(2, n_components), explained_variance_ratios_bow, marker='o', label=\"BoW\", color='orange')\n",
    "plt.title('LSA: Varianza Explicada Acumulada: TF-IDF vs BoW', fontsize=14)\n",
    "plt.xlabel('Número de Componentes (n_components)', fontsize=12)\n",
    "plt.ylabel('Varianza Explicada Acumulada', fontsize=12)\n",
    "plt.grid()\n",
    "plt.legend(fontsize=12)\n",
    "plt.show()"
   ]
  },
  {
   "cell_type": "code",
   "execution_count": 41,
   "metadata": {},
   "outputs": [
    {
     "data": {
      "image/png": "[encoded data removed]",
      "text/plain": [
       "<Figure size 1200x600 with 1 Axes>"
      ]
     },
     "metadata": {},
     "output_type": "display_data"
    }
   ],
   "source": [
    "import numpy as np\n",
    "import matplotlib.pyplot as plt\n",
    "from sklearn.decomposition import LatentDirichletAllocation\n",
    "from sklearn.feature_extraction.text import CountVectorizer\n",
    "\n",
    "# Vectorización (Bag of Words)\n",
    "vectorizer = CountVectorizer()\n",
    "X = vectorizer.fit_transform(df[\"text_processed\"])\n",
    "\n",
    "# Rango de n_components para LDA\n",
    "n_topics_range = range(2, 4)  # De 2 a 20 componentes\n",
    "\n",
    "# Listas para almacenar la perplejidad\n",
    "perplexities = []\n",
    "\n",
    "# Probar n_components de 2 a 20 para LDA\n",
    "for n_topics in n_topics_range:\n",
    "    # Modelo LDA\n",
    "    lda_model = LatentDirichletAllocation(n_components=n_topics, random_state=42)\n",
    "    lda_model.fit(X)\n",
    "    \n",
    "    # Calcular la perplejidad y agregarla a la lista\n",
    "    perplexities.append(lda_model.perplexity(X))\n",
    "\n",
    "# Graficar los resultados\n",
    "plt.figure(figsize=(12, 6))\n",
    "plt.plot(n_topics_range, perplexities, marker='o', color='green', label='Perplejidad')\n",
    "plt.title('LDA: Perplejidad vs Número de Temas', fontsize=14)\n",
    "plt.xlabel('Número de Temas (n_topics)', fontsize=12)\n",
    "plt.ylabel('Perplejidad', fontsize=12)\n",
    "plt.grid(True)\n",
    "plt.legend(fontsize=12)\n",
    "plt.show()"
   ]
  },
  {
   "cell_type": "markdown",
   "metadata": {},
   "source": [
    "## Modelos de aprendizaje automático"
   ]
  },
  {
   "cell_type": "code",
   "execution_count": null,
   "metadata": {},
   "outputs": [],
   "source": [
    "import pandas as pd\n",
    "from sklearn.feature_extraction.text import TfidfVectorizer\n",
    "from sklearn.model_selection import train_test_split\n",
    "from sklearn.metrics import classification_report\n",
    "\n",
    "# Supongamos que tienes un archivo 'dataset.csv' con columnas \"Respuestas\" y \"Temas\".\n",
    "data = pd.read_csv(\"data/data.csv\")\n",
    "\n",
    "# Separar características y etiquetas\n",
    "X = data[\"processed_text\"]  # Texto\n",
    "y = data[\"labels\"]       # Tópicos esperados (pueden ser etiquetas múltiples)\n",
    "\n",
    "# Dividir en conjuntos de entrenamiento y prueba\n",
    "X_train, X_test, y_train, y_test = train_test_split(X, y, test_size=0.2, random_state=42)\n",
    "\n",
    "# Vectorización del texto\n",
    "vectorizer = TfidfVectorizer(max_features=5000)\n",
    "X_train_vec = vectorizer.fit_transform(X_train)\n",
    "X_test_vec = vectorizer.transform(X_test)"
   ]
  },
  {
   "cell_type": "markdown",
   "metadata": {},
   "source": [
    "### SVM"
   ]
  },
  {
   "cell_type": "code",
   "execution_count": null,
   "metadata": {},
   "outputs": [],
   "source": [
    "from sklearn.svm import LinearSVC\n",
    "\n",
    "# Entrenar el modelo SVM\n",
    "svm_model = LinearSVC()\n",
    "svm_model.fit(X_train_vec, y_train)\n",
    "\n",
    "# Predicción y evaluación\n",
    "y_pred_svm = svm_model.predict(X_test_vec)\n",
    "print(\"Reporte para SVM:\")\n",
    "print(classification_report(y_test, y_pred_svm))"
   ]
  },
  {
   "cell_type": "markdown",
   "metadata": {},
   "source": [
    "### Naive Bayes"
   ]
  },
  {
   "cell_type": "code",
   "execution_count": null,
   "metadata": {},
   "outputs": [],
   "source": [
    "from sklearn.naive_bayes import MultinomialNB\n",
    "\n",
    "# Entrenar el modelo Naive Bayes\n",
    "nb_model = MultinomialNB()\n",
    "nb_model.fit(X_train_vec, y_train)\n",
    "\n",
    "# Predicción y evaluación\n",
    "y_pred_nb = nb_model.predict(X_test_vec)\n",
    "print(\"Reporte para Naive Bayes:\")\n",
    "print(classification_report(y_test, y_pred_nb))"
   ]
  },
  {
   "cell_type": "markdown",
   "metadata": {},
   "source": [
    "### CRF (Conditional Random Field)"
   ]
  },
  {
   "cell_type": "code",
   "execution_count": null,
   "metadata": {},
   "outputs": [],
   "source": [
    "import sklearn_crfsuite\n",
    "from sklearn_crfsuite import metrics\n",
    "from sklearn_crfsuite.metrics import flat_classification_report\n",
    "from nltk.tokenize import word_tokenize\n",
    "\n",
    "# Tokenización del texto\n",
    "def prepare_crf_data(X, y):\n",
    "    crf_data = []\n",
    "    for text, topic in zip(X, y):\n",
    "        tokens = word_tokenize(text)\n",
    "        crf_data.append([(token, topic) for token in tokens])\n",
    "    return crf_data\n",
    "\n",
    "train_data = prepare_crf_data(X_train, y_train)\n",
    "test_data = prepare_crf_data(X_test, y_test)"
   ]
  },
  {
   "cell_type": "code",
   "execution_count": null,
   "metadata": {},
   "outputs": [],
   "source": [
    "# Configurar el modelo CRF\n",
    "crf_model = sklearn_crfsuite.CRF(\n",
    "    algorithm='lbfgs',\n",
    "    max_iterations=100,\n",
    "    all_possible_transitions=True\n",
    ")\n",
    "\n",
    "# Extraer características para CRF\n",
    "def word2features(tokens, i):\n",
    "    word = tokens[i][0]\n",
    "    features = {\n",
    "        'word': word,\n",
    "        'is_first': i == 0,\n",
    "        'is_last': i == len(tokens) - 1,\n",
    "        'is_title': word.istitle(),\n",
    "        'is_upper': word.isupper(),\n",
    "        'is_digit': word.isdigit(),\n",
    "    }\n",
    "    return features\n",
    "\n",
    "def extract_features(data):\n",
    "    X, y = [], []\n",
    "    for sentence in data:\n",
    "        X.append([word2features(sentence, i) for i in range(len(sentence))])\n",
    "        y.append([label for token, label in sentence])\n",
    "    return X, y\n",
    "\n",
    "X_train_crf, y_train_crf = extract_features(train_data)\n",
    "X_test_crf, y_test_crf = extract_features(test_data)\n",
    "\n",
    "# Entrenar el modelo\n",
    "crf_model.fit(X_train_crf, y_train_crf)\n",
    "\n",
    "# Predicción y evaluación\n",
    "y_pred_crf = crf_model.predict(X_test_crf)\n",
    "print(\"Reporte para CRF:\")\n",
    "print(flat_classification_report(y_test_crf, y_pred_crf))"
   ]
  },
  {
   "cell_type": "markdown",
   "metadata": {},
   "source": [
    "## Modelos de redes neuronales"
   ]
  },
  {
   "cell_type": "markdown",
   "metadata": {},
   "source": [
    "### Procesamiento de datos"
   ]
  },
  {
   "cell_type": "code",
   "execution_count": null,
   "metadata": {},
   "outputs": [],
   "source": [
    "import pandas as pd\n",
    "import numpy as np\n",
    "from sklearn.model_selection import train_test_split\n",
    "from tensorflow.keras.preprocessing.text import Tokenizer\n",
    "from tensorflow.keras.preprocessing.sequence import pad_sequences\n",
    "\n",
    "# Cargar el dataset\n",
    "df = pd.read_csv(\"dataset.csv\")  # Asegúrate de tener columnas 'Respuestas' y 'temas'\n",
    "\n",
    "# Dividir datos en entrenamiento y prueba\n",
    "X = df['Respuestas'].values\n",
    "y = df['temas'].values\n",
    "\n",
    "# Tokenización\n",
    "tokenizer = Tokenizer(num_words=10000, oov_token=\"<OOV>\")\n",
    "tokenizer.fit_on_texts(X)\n",
    "X_seq = tokenizer.texts_to_sequences(X)\n",
    "X_padded = pad_sequences(X_seq, maxlen=100, padding='post')\n",
    "\n",
    "# Etiquetar temas como índices\n",
    "topic_tokenizer = Tokenizer()\n",
    "topic_tokenizer.fit_on_texts(y)\n",
    "y_seq = topic_tokenizer.texts_to_sequences(y)\n",
    "y_padded = pad_sequences(y_seq, maxlen=10, padding='post')\n",
    "\n",
    "# Convertir a matrices NumPy\n",
    "y_padded = np.array(y_padded)\n",
    "\n",
    "# Dividir en conjunto de entrenamiento y prueba\n",
    "X_train, X_test, y_train, y_test = train_test_split(X_padded, y_padded, test_size=0.2, random_state=42)"
   ]
  },
  {
   "cell_type": "markdown",
   "metadata": {},
   "source": [
    "### RNN (Red neuronal)"
   ]
  },
  {
   "cell_type": "code",
   "execution_count": null,
   "metadata": {},
   "outputs": [],
   "source": [
    "from tensorflow.keras.models import Sequential\n",
    "from tensorflow.keras.layers import Embedding, SimpleRNN, Dense\n",
    "\n",
    "# Crear el modelo\n",
    "rnn_model = Sequential([\n",
    "    Embedding(input_dim=10000, output_dim=128, input_length=100),\n",
    "    SimpleRNN(128, activation='relu'),\n",
    "    Dense(64, activation='relu'),\n",
    "    Dense(y_padded.shape[1], activation='softmax')  # Salida con las dimensiones de los temas\n",
    "])\n",
    "\n",
    "# Compilar\n",
    "rnn_model.compile(optimizer='adam', loss='categorical_crossentropy', metrics=['accuracy'])\n",
    "\n",
    "# Entrenar\n",
    "rnn_model.fit(X_train, y_train, epochs=10, batch_size=32, validation_data=(X_test, y_test))"
   ]
  },
  {
   "cell_type": "markdown",
   "metadata": {},
   "source": [
    "### LSTM (Long Short Term Memory)"
   ]
  },
  {
   "cell_type": "code",
   "execution_count": null,
   "metadata": {},
   "outputs": [],
   "source": [
    "from tensorflow.keras.models import Sequential\n",
    "from tensorflow.keras.layers import Embedding, LSTM, Dense\n",
    "\n",
    "# Crear el modelo\n",
    "lstm_model = Sequential([\n",
    "    Embedding(input_dim=10000, output_dim=128, input_length=100),\n",
    "    LSTM(128, return_sequences=False),\n",
    "    Dense(64, activation='relu'),\n",
    "    Dense(y_padded.shape[1], activation='softmax')\n",
    "])\n",
    "\n",
    "# Compilar\n",
    "lstm_model.compile(optimizer='adam', loss='categorical_crossentropy', metrics=['accuracy'])\n",
    "\n",
    "# Entrenar\n",
    "lstm_model.fit(X_train, y_train, epochs=10, batch_size=32, validation_data=(X_test, y_test))"
   ]
  },
  {
   "cell_type": "markdown",
   "metadata": {},
   "source": [
    "### Seq2Seq"
   ]
  },
  {
   "cell_type": "code",
   "execution_count": null,
   "metadata": {},
   "outputs": [],
   "source": [
    "from tensorflow.keras.models import Model\n",
    "from tensorflow.keras.layers import Input, Embedding, LSTM, Dense\n",
    "\n",
    "# Longitud de entrada y salida\n",
    "input_len = X_padded.shape[1]\n",
    "output_len = y_padded.shape[1]\n",
    "\n",
    "# Modelo Seq2Seq\n",
    "encoder_inputs = Input(shape=(input_len,))\n",
    "encoder_embedding = Embedding(input_dim=10000, output_dim=128)(encoder_inputs)\n",
    "encoder_lstm = LSTM(128, return_state=True)\n",
    "_, state_h, state_c = encoder_lstm(encoder_embedding)\n",
    "\n",
    "decoder_inputs = Input(shape=(output_len,))\n",
    "decoder_embedding = Embedding(input_dim=10000, output_dim=128)(decoder_inputs)\n",
    "decoder_lstm = LSTM(128, return_sequences=True)\n",
    "decoder_outputs = decoder_lstm(decoder_embedding, initial_state=[state_h, state_c])\n",
    "\n",
    "decoder_dense = Dense(len(topic_tokenizer.word_index)+1, activation='softmax')\n",
    "decoder_outputs = decoder_dense(decoder_outputs)\n",
    "\n",
    "seq2seq_model = Model([encoder_inputs, decoder_inputs], decoder_outputs)\n",
    "\n",
    "# Compilar\n",
    "seq2seq_model.compile(optimizer='adam', loss='sparse_categorical_crossentropy', metrics=['accuracy'])\n",
    "\n",
    "# Entrenar\n",
    "decoder_inputs_train = np.zeros_like(y_train)  # Entrada inicial del decodificador\n",
    "seq2seq_model.fit([X_train, decoder_inputs_train], y_train, epochs=10, batch_size=32, validation_data=([X_test, np.zeros_like(y_test)], y_test))"
   ]
  },
  {
   "cell_type": "markdown",
   "metadata": {},
   "source": [
    "## Modelos basados en transformers"
   ]
  },
  {
   "cell_type": "markdown",
   "metadata": {},
   "source": [
    "### Preprocesamiento"
   ]
  },
  {
   "cell_type": "code",
   "execution_count": null,
   "metadata": {},
   "outputs": [],
   "source": [
    "import pandas as pd\n",
    "from sklearn.model_selection import train_test_split\n",
    "from sklearn.preprocessing import MultiLabelBinarizer\n",
    "from transformers import AutoTokenizer, AutoModelForSequenceClassification, TrainingArguments, Trainer\n",
    "from datasets import Dataset\n",
    "\n",
    "# Cargar el dataset\n",
    "df = pd.read_csv(\"dataset.csv\")  # Cambia el nombre del archivo\n",
    "df[\"Temas\"] = df[\"Temas\"].apply(lambda x: x.split(\", \"))  # Convertir a lista de temas\n",
    "\n",
    "# Convertir los temas a formato binarizado\n",
    "mlb = MultiLabelBinarizer()\n",
    "df[\"Temas_binarizados\"] = list(mlb.fit_transform(df[\"Temas\"]))\n",
    "\n",
    "# Dividir en conjunto de entrenamiento y prueba\n",
    "train_df, test_df = train_test_split(df, test_size=0.2, random_state=42)\n",
    "train_dataset = Dataset.from_pandas(train_df)\n",
    "test_dataset = Dataset.from_pandas(test_df)"
   ]
  },
  {
   "cell_type": "markdown",
   "metadata": {},
   "source": [
    "### Entrenamiento"
   ]
  },
  {
   "cell_type": "code",
   "execution_count": null,
   "metadata": {},
   "outputs": [],
   "source": [
    "def train_model(model_name, train_dataset, test_dataset, mlb):\n",
    "    tokenizer = AutoTokenizer.from_pretrained(model_name)\n",
    "    model = AutoModelForSequenceClassification.from_pretrained(model_name, num_labels=len(mlb.classes_))\n",
    "\n",
    "    # Tokenización\n",
    "    def tokenize_data(examples):\n",
    "        return tokenizer(examples[\"Respuestas\"], padding=\"max_length\", truncation=True)\n",
    "\n",
    "    train_dataset = train_dataset.map(tokenize_data, batched=True)\n",
    "    test_dataset = test_dataset.map(tokenize_data, batched=True)\n",
    "\n",
    "    # Argumentos de entrenamiento\n",
    "    training_args = TrainingArguments(\n",
    "        output_dir=f\"./results/{model_name}\", \n",
    "        evaluation_strategy=\"epoch\",\n",
    "        save_strategy=\"epoch\",\n",
    "        learning_rate=2e-5,\n",
    "        per_device_train_batch_size=16,\n",
    "        per_device_eval_batch_size=16,\n",
    "        num_train_epochs=3,\n",
    "        weight_decay=0.01,\n",
    "        logging_dir=f\"./logs/{model_name}\",\n",
    "        logging_steps=10,\n",
    "        load_best_model_at_end=True\n",
    "    )\n",
    "\n",
    "    # Entrenador\n",
    "    trainer = Trainer(\n",
    "        model=model,\n",
    "        args=training_args,\n",
    "        train_dataset=train_dataset,\n",
    "        eval_dataset=test_dataset,\n",
    "        tokenizer=tokenizer,\n",
    "        compute_metrics=None  # Puedes definir métricas adicionales\n",
    "    )\n",
    "\n",
    "    # Entrenar el modelo\n",
    "    trainer.train()\n",
    "\n",
    "    return model, tokenizer"
   ]
  },
  {
   "cell_type": "markdown",
   "metadata": {},
   "source": [
    "### BERT"
   ]
  },
  {
   "cell_type": "code",
   "execution_count": null,
   "metadata": {},
   "outputs": [],
   "source": [
    "bert_model, bert_tokenizer = train_model(\"bert-base-uncased\", train_dataset, test_dataset, mlb)"
   ]
  },
  {
   "cell_type": "markdown",
   "metadata": {},
   "source": [
    "### GPT"
   ]
  },
  {
   "cell_type": "code",
   "execution_count": null,
   "metadata": {},
   "outputs": [],
   "source": [
    "gpt_model, gpt_tokenizer = train_model(\"gpt2\", train_dataset, test_dataset, mlb)"
   ]
  },
  {
   "cell_type": "markdown",
   "metadata": {},
   "source": [
    "### T5"
   ]
  },
  {
   "cell_type": "code",
   "execution_count": null,
   "metadata": {},
   "outputs": [],
   "source": [
    "t5_model, t5_tokenizer = train_model(\"t5-small\", train_dataset, test_dataset, mlb)"
   ]
  },
  {
   "cell_type": "markdown",
   "metadata": {},
   "source": [
    "### XLNet"
   ]
  },
  {
   "cell_type": "code",
   "execution_count": null,
   "metadata": {},
   "outputs": [],
   "source": [
    "xlnet_model, xlnet_tokenizer = train_model(\"xlnet-base-cased\", train_dataset, test_dataset, mlb)"
   ]
  },
  {
   "cell_type": "markdown",
   "metadata": {},
   "source": [
    "### RoBERTa"
   ]
  },
  {
   "cell_type": "code",
   "execution_count": null,
   "metadata": {},
   "outputs": [],
   "source": [
    "roberta_model, roberta_tokenizer = train_model(\"roberta-base\", train_dataset, test_dataset, mlb)"
   ]
  },
  {
   "cell_type": "markdown",
   "metadata": {},
   "source": [
    "### Predicción"
   ]
  },
  {
   "cell_type": "code",
   "execution_count": null,
   "metadata": {},
   "outputs": [],
   "source": [
    "def predict_topics(model, tokenizer, text, mlb):\n",
    "    tokens = tokenizer(text, return_tensors=\"pt\", padding=True, truncation=True)\n",
    "    outputs = model(**tokens)\n",
    "    predictions = outputs.logits.argmax(dim=-1).detach().numpy()\n",
    "    return mlb.inverse_transform(predictions)\n",
    "\n",
    "# Ejemplo de predicción con BERT\n",
    "response_text = \"Este es un ejemplo de respuesta.\"\n",
    "predicted_topics = predict_topics(bert_model, bert_tokenizer, response_text, mlb)\n",
    "print(predicted_topics)"
   ]
  },
  {
   "cell_type": "code",
   "execution_count": null,
   "metadata": {},
   "outputs": [],
   "source": []
  }
 ],
 "metadata": {
  "kernelspec": {
   "display_name": "ethics_env",
   "language": "python",
   "name": "python3"
  },
  "language_info": {
   "codemirror_mode": {
    "name": "ipython",
    "version": 3
   },
   "file_extension": ".py",
   "mimetype": "text/x-python",
   "name": "python",
   "nbconvert_exporter": "python",
   "pygments_lexer": "ipython3",
   "version": "3.11.9"
  }
 },
 "nbformat": 4,
 "nbformat_minor": 2
}
